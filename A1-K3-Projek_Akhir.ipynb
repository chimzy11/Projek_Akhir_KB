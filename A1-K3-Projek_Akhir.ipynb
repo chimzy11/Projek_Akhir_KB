{
 "cells": [
  {
   "cell_type": "raw",
   "id": "2d355505-5103-4518-8dee-2483058aee04",
   "metadata": {},
   "source": [
    "                                                   PROJEK AKHIR KECERDASAN BUATAN\n",
    "                                        IMAGE PROCESSING - KLASIFIKASI KEBAKARAN ATAU BUKAN\n",
    "\n",
    "                                        KELOMPOK 3-A1 :\n",
    "                                        1. 2109106006 --> Kania Putri Ananda\n",
    "                                        2. 2109106012 --> Nurmedina Maulidiah\n",
    "                                        3. 2109106025 --> Rismayanti"
   ]
  },
   {
   "cell_type": "markdown",
   "id": "431fe76f-fb5e-4f2e-a120-42f235291b78",
   "metadata": {},
   # **Data Collecting**
   - Berisikan meta data dari dataset
   ]
  },
  {
   "cell_type": "markdown",
   "id": "431fe76f-fb5e-4f2e-a120-42f235291b78",
   "metadata": {},
   "source": [
    Sumber Dataset = https://www.kaggle.com/datasets/phylake1337/fire-dataset

    Jumlah Dataset = 999 Data

    Bentuk Dataset = Citra
   ]
  },
 {
   "cell_type": "markdown",
   "id": "431fe76f-fb5e-4f2e-a120-42f235291b78",
   "metadata": {},
   ## Library Utama
   - os = agar python langsung berinteraksi dengan sistem operasi
   - tensorflow =  library untuk Machine Learning yang dapat digunakan untuk melakukan berbagai macam tugas namun Tensorflow lebih berfokus pada Training, Interfacing    dan Deep Neural Network
   - numpy = untuk membentuk objek N-dimensional array, yang mirip dengan list pada Python
   - shutil = berfungsi untuk melakukan operasi file dan direktori yang berbeda.
   - random = menghasilkan angka acak

   ]
  },
  {
   "cell_type": "code",
   "execution_count": 1,
   "id": "d72c40c6-cc88-42c0-a2d7-1558ec57710d",
   "metadata": {},
   "outputs": [],
   "source": [
   import os
   import tensorflow as tf
   import numpy as np
   import shutil
   import random
   ]
  },
{
   "cell_type": "markdown",
   "id": "431fe76f-fb5e-4f2e-a120-42f235291b78",
   "metadata": {},
   "source": [
   ## Direktori untuk menyimpan dataset
   - path sebagai tempat penyimpanan dataset utama yang belum displitting
   - path baru akan menyimpan dataset yang telah displit
   ]
  },
  {
   "cell_type": "code",
   "execution_count": 2,
   "id": "58b0f393-398d-4800-97a7-1289c37a4b40",
   "metadata": {},
   "outputs": [],
   "source": [
    path = 'D:/Kelompok3-PA-KB/Dataset/'
   ]
  },
{
   "cell_type": "markdown",
   "id": "431fe76f-fb5e-4f2e-a120-42f235291b78",
   "metadata": {},
   "source": [
    ## Menampilkan jumlah class yang ada pada dataset
   - Pengklasifikasian terdiri dari 2 jenis class yaitu fire dan Non Fire
   - Jika Klasifikasi gambar termasuk Fire berarti kebakaran
   - Jika termasuk Non Fire termasuk tidak kebakaran
   ]
  },
  {
   "cell_type": "code",
   "execution_count": 3,
   "id": "1d18be33-b91d-4f74-b3ca-cb3580d07b97",
   "metadata": {},
   "outputs": [],
   "source": [
    new_classes = ['Fire', 'Non Fire']
   ]
  },
  {
   "cell_type": "code",
   "execution_count": 4,
   "id": "197fd9fb-357c-4f86-a6b4-8487a76577da",
   "metadata": {},
   "outputs": [
    {
     "name": "stdout",
     "output_type": "stream",
     "text": [
      "JUMLAH CLASS : 2\n",
      "1. Fire\n",
      "2. Non Fire\n"
     ]
    }
   ],
     print(f"JUMLAH CLASS : {len(new_classes)}")
     print("----------------") 
     print(f"1. {new_classes[0]}")
     print(f"2. {new_classes[1]}")
   ]
  },
 {
   "cell_type": "markdown",
   "id": "431fe76f-fb5e-4f2e-a120-42f235291b78",
   "metadata": {},
    ## Import from PIL import Image
    Untuk membuka file gambar
   ]
  },
{
   "cell_type": "code",
   "execution_count": 1,
   "id": "d72c40c6-cc88-42c0-a2d7-1558ec57710d",
   "metadata": {},
   "outputs": [],
   "source": [
   from PIL import Image
   ]
  },
{
   "cell_type": "markdown",
   "id": "431fe76f-fb5e-4f2e-a120-42f235291b78",
   "metadata": {},
    ## Menampilkan Resolusi Gambar
   ]
  },
{
   "cell_type": "code",
   "execution_count": 4,
   "id": "197fd9fb-357c-4f86-a6b4-8487a76577da",
   "metadata": {},
   "outputs": [
    {
     "name": "stdout",
     "output_type": "stream",
     Fire
-------------------------------
1. Size Gambar : (860, 460)

2. Size Gambar : (450, 338)

3. Size Gambar : (600, 338)

4. Size Gambar : (674, 485)

5. Size Gambar : (530, 298)

Non Fire
-------------------------------
1. Size Gambar : (4367, 3275)

2. Size Gambar : (700, 467)

3. Size Gambar : (1600, 1000)

4. Size Gambar : (700, 500)

5. Size Gambar : (800, 600)
     ]
    }
   ],
    for x in new_classes:
    path = os.path.join(dataset, x)
    print(x)
    print("-------------------------------")
    images = os.listdir(path)
    for z in range(5):
        img_path = os.path.join(path, images[z])
        img = Image.open(img_path)
        print(f"{z+1}. Size Gambar : {img.size}\n")
   ]
  },
 {
   "cell_type": "code",
   "execution_count": 2,
   "id": "58b0f393-398d-4800-97a7-1289c37a4b40",
   "metadata": {},
   "outputs": [],
   "source": [
    path = 'D:/Kelompok3-PA-KB/Dataset/'
    path_baru = 'D:/Kelompok3-PA-KB/Split Dataset/'
   ]
  },
{
   "cell_type": "markdown",
   "id": "431fe76f-fb5e-4f2e-a120-42f235291b78",
   "metadata": {},
    ## Melakukakan spliting folder
    ### 80% Training Data
    ### 20% Validation Data

    - os.makedirs = untuk membuat direktori secara rekursif
    - os.listdir = untuk mendapatkan list semua file yg ada di direktori temp
    - random.shuffle = urutan diubah tapi isinya sama
    - np.split = membagi array menjadi sub-array
    - shutil.copy = mengcopy file ke direktori baru
   ]
  },
  
  {
   "cell_type": "code",
   "execution_count": 6,
   "id": "23c4d9dc-a177-447e-8450-42ba2b50ff1f",
   "metadata": {},
   "outputs": [
    {
     "name": "stdout",
     "output_type": "stream",
     "text": [
      "D:/Kelompok3-PA-KB/Dataset/Fire\n",
      "\n",
      "Fire\n",
      "--------------------------\n",
      "Total Images      :  755\n",
      "Total Training    :  604\n",
      "Total Validation  :  151\n",
      "\n",
      "D:/Kelompok3-PA-KB/Dataset/Non Fire\n",
      "\n",
      "Non Fire\n",
      "--------------------------\n",
      "Total Images      :  239\n",
      "Total Training    :  191\n",
      "Total Validation  :  48\n",
      "\n"
     ]
    }
   ],
   "source": [
    for cls in new_classes:
    os.makedirs(path_baru + 'Training Data/' + cls)
    os.makedirs(path_baru + 'Validation Data/' + cls)
   ]
  },
  {
   "cell_type": "code",
   "execution_count": 7,
   "id": "1bf2cbbe-75ce-4471-8ac3-d425d2a1af96",
   "metadata": {},
   "outputs": [
    {
     D:/Kelompok3-PA-KB/Dataset/Fire

      Fire
      --------------------------
      Total Images      :  755
      Total Training    :  604
      Total Validation  :  151

      D:/Kelompok3-PA-KB/Dataset/Non Fire

      Non Fire
      --------------------------
      Total Images      :  239
      Total Training    :  191
      Total Validation  :  48

    }
   ],
   "source": [
    for cls in new_classes:
    temp = path + cls
    print(temp)

    all_dataset = os.listdir(temp)
    np.random.shuffle(all_dataset)

    split_train, split_val = np.split(np.array(all_dataset),[int(len(all_dataset)*0.80)])
    
    print(f"\n{cls}")
    print(f"--------------------------")
    print(f"Total Images      :  {len(all_dataset)}")
    print(f"Total Training    :  {len(split_train)}")
    print(f"Total Validation  :  {len(split_val)}\n")

    split_train = [temp +'/'+ name for name in split_train]
    split_val = [temp+'/' + name for name in split_val]
    
    for name in split_train:
        shutil.copy(name, path_baru + 'Training Data/'+ cls )
  
    for name in split_val:
        shutil.copy(name, path_baru +'Validation Data/'+cls )
   ]
  },

  {
   "cell_type": "code",
   "execution_count": 8,
   "id": "2a722077-1076-4926-9373-82f98db36ee3",
   "metadata": {},
   "outputs": [],
   "source": [
   class_names = new_classes
   class_names
   ]
  },
  {
   "cell_type": "code",
   "execution_count": 9,
   "id": "639e7c66-9831-408e-9e92-9ce1fa01a37d",
   "metadata": {},
   "outputs": [],
   "source": [
   dataset = os.path.join(path)
   print(os.listdir(dataset))
   ]
  },
{
   "cell_type": "markdown",
   "id": "431fe76f-fb5e-4f2e-a120-42f235291b78",
   "metadata": {},
   ## Mengatur Jumlah Batch Size
   - Batch size akan berjumlah 8 sehingga model yang dilatih akan lebih banyak pada setiap epochnya
       - os.makedirs = untuk membuat direktori secara rekursif
       - os.listdir = untuk mendapatkan list semua file yg ada di direktori temp
       - random.shuffle = urutan diubah tapi isinya sama
       - np.split = membagi array menjadi sub-array
       - shutil.copy = mengcopy file ke direktori baru
   ]
  },
  {
   "cell_type": "code",
   "execution_count": 10,
   "id": "9d082932-f618-4a73-8112-fc9fda194a7d",
   "metadata": {},
   "outputs": [batch_size = 8],
   "source": [
    batch_size = 8

    print("batch_size =", batch_size)
   ]
  },
  {
   "cell_type": "code",
   "execution_count": 11,
   "id": "70ad4ad0-e804-4030-8ffc-206e8d979373",
   "metadata": {},
   "outputs": [],
   "source": [
    "batch_size = 8"
   ]
  },
  {
   "cell_type": "code",
   "execution_count": 12,
   "id": "3007c180-62ca-452d-84f6-67f0f78d1532",
   "metadata": {},
   "outputs": [
    {
     "name": "stdout",
     "output_type": "stream",
     "text": [
      "Found 986 images belonging to 2 classes.\n",
      "Found 0 images belonging to 2 classes.\n"
     ]
    }
   ],
   "source": [
    "train_befAug = datagen_befAug.flow_from_directory(img_path,\n",
    "                                           target_size =(100, 100),\n",
    "                                           batch_size = batch_size,\n",
    "                                           shuffle = True,\n",
    "                                           class_mode = 'binary',\n",
    "                                           subset = 'training')\n",
    "\n",
    "val_befAug = datagen_befAug.flow_from_directory(img_path,\n",
    "                                           target_size =(100, 100),\n",
    "                                           batch_size = batch_size,\n",
    "                                           shuffle = True,\n",
    "                                           class_mode = 'binary',\n",
    "                                           subset = 'validation')\n"
   ]
  },
  {
   "cell_type": "code",
   "execution_count": 13,
   "id": "37e43dc3-b43e-43af-a2d7-bf7b28f2ac98",
   "metadata": {},
   "outputs": [],
   "source": [
    "import matplotlib.pyplot as plt"
   ]
  },
  {
   "cell_type": "code",
   "execution_count": 17,
   "id": "763eedd5-bbe6-453f-96e9-316e0c95b75e",
   "metadata": {},
   "outputs": [
    {
     "ename": "InvalidArgumentError",
     "evalue": "{{function_node __wrapped__ArgMax_device_/job:localhost/replica:0/task:0/device:CPU:0}} Expected dimension in the range [0, 0), but got 0 [Op:ArgMax]",
     "output_type": "error",
     "traceback": [
      "\u001b[1;31m---------------------------------------------------------------------------\u001b[0m",
      "\u001b[1;31mInvalidArgumentError\u001b[0m                      Traceback (most recent call last)",
      "Cell \u001b[1;32mIn [17], line 8\u001b[0m\n\u001b[0;32m      6\u001b[0m plt\u001b[38;5;241m.\u001b[39msubplot(\u001b[38;5;241m3\u001b[39m, \u001b[38;5;241m4\u001b[39m, i\u001b[38;5;241m+\u001b[39m\u001b[38;5;241m1\u001b[39m)\n\u001b[0;32m      7\u001b[0m plt\u001b[38;5;241m.\u001b[39mimshow(train_befAug[\u001b[38;5;241m0\u001b[39m][\u001b[38;5;241m0\u001b[39m][i])\n\u001b[1;32m----> 8\u001b[0m plt\u001b[38;5;241m.\u001b[39mtitle(class_names[\u001b[43mtf\u001b[49m\u001b[38;5;241;43m.\u001b[39;49m\u001b[43margmax\u001b[49m\u001b[43m(\u001b[49m\u001b[43mlabels\u001b[49m\u001b[43m[\u001b[49m\u001b[43mi\u001b[49m\u001b[43m]\u001b[49m\u001b[43m)\u001b[49m])\n\u001b[0;32m      9\u001b[0m plt\u001b[38;5;241m.\u001b[39maxis(\u001b[38;5;124m'\u001b[39m\u001b[38;5;124moff\u001b[39m\u001b[38;5;124m'\u001b[39m)\n",
      "File \u001b[1;32m~\\AppData\\Local\\Programs\\Python\\Python310\\lib\\site-packages\\tensorflow\\python\\util\\traceback_utils.py:153\u001b[0m, in \u001b[0;36mfilter_traceback.<locals>.error_handler\u001b[1;34m(*args, **kwargs)\u001b[0m\n\u001b[0;32m    151\u001b[0m \u001b[38;5;28;01mexcept\u001b[39;00m \u001b[38;5;167;01mException\u001b[39;00m \u001b[38;5;28;01mas\u001b[39;00m e:\n\u001b[0;32m    152\u001b[0m   filtered_tb \u001b[38;5;241m=\u001b[39m _process_traceback_frames(e\u001b[38;5;241m.\u001b[39m__traceback__)\n\u001b[1;32m--> 153\u001b[0m   \u001b[38;5;28;01mraise\u001b[39;00m e\u001b[38;5;241m.\u001b[39mwith_traceback(filtered_tb) \u001b[38;5;28;01mfrom\u001b[39;00m \u001b[38;5;28mNone\u001b[39m\n\u001b[0;32m    154\u001b[0m \u001b[38;5;28;01mfinally\u001b[39;00m:\n\u001b[0;32m    155\u001b[0m   \u001b[38;5;28;01mdel\u001b[39;00m filtered_tb\n",
      "File \u001b[1;32m~\\AppData\\Local\\Programs\\Python\\Python310\\lib\\site-packages\\tensorflow\\python\\eager\\execute.py:54\u001b[0m, in \u001b[0;36mquick_execute\u001b[1;34m(op_name, num_outputs, inputs, attrs, ctx, name)\u001b[0m\n\u001b[0;32m     52\u001b[0m \u001b[38;5;28;01mtry\u001b[39;00m:\n\u001b[0;32m     53\u001b[0m   ctx\u001b[38;5;241m.\u001b[39mensure_initialized()\n\u001b[1;32m---> 54\u001b[0m   tensors \u001b[38;5;241m=\u001b[39m pywrap_tfe\u001b[38;5;241m.\u001b[39mTFE_Py_Execute(ctx\u001b[38;5;241m.\u001b[39m_handle, device_name, op_name,\n\u001b[0;32m     55\u001b[0m                                       inputs, attrs, num_outputs)\n\u001b[0;32m     56\u001b[0m \u001b[38;5;28;01mexcept\u001b[39;00m core\u001b[38;5;241m.\u001b[39m_NotOkStatusException \u001b[38;5;28;01mas\u001b[39;00m e:\n\u001b[0;32m     57\u001b[0m   \u001b[38;5;28;01mif\u001b[39;00m name \u001b[38;5;129;01mis\u001b[39;00m \u001b[38;5;129;01mnot\u001b[39;00m \u001b[38;5;28;01mNone\u001b[39;00m:\n",
      "\u001b[1;31mInvalidArgumentError\u001b[0m: {{function_node __wrapped__ArgMax_device_/job:localhost/replica:0/task:0/device:CPU:0}} Expected dimension in the range [0, 0), but got 0 [Op:ArgMax]"
     ]
    },
    {
     "data": {
      "image/png": "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\n",
      "text/plain": [
       "<Figure size 1000x1000 with 1 Axes>"
      ]
     },
     "metadata": {},
     "output_type": "display_data"
    }
   ],
   "source": [
    "plt.figure(figsize=(10, 10))\n",
    "\n",
    "images, labels = train_befAug.next()\n",
    "\n",
    "for i in range (8):\n",
    "    plt.subplot(3, 4, i+1)\n",
    "    plt.imshow(train_befAug[0][0][i])\n",
    "    plt.title(class_names[tf.argmax(labels[i])])\n",
    "    plt.axis('off')"
   ]
  },
  {
   "cell_type": "code",
   "execution_count": 18,
   "id": "85af68db-79ef-47cb-aa52-a8ac5e4466dd",
   "metadata": {},
   "outputs": [],
   "source": [
    "datagen_Aug = ImageDataGenerator(\n",
    "    rescale = 1./255,\n",
    "    rotation_range = 0.20,\n",
    "    width_shift_range = 0.2,\n",
    "    height_shift_range = 0.2,\n",
    "    shear_range = 0.2,\n",
    "    zoom_range = 0.5,\n",
    "    horizontal_flip = True,\n",
    "    validation_split = 0.1,\n",
    "    fill_mode = 'nearest'\n",
    ")"
   ]
  },
  {
   "cell_type": "code",
   "execution_count": 19,
   "id": "e15482cc-e033-4a73-afa4-51a6eca50129",
   "metadata": {},
   "outputs": [],
   "source": [
    "train_path = 'D:/Kelompok3-PA-KB/Split Dataset/Training Data'\n",
    "val_path = 'D:/Kelompok3-PA-KB/Split Dataset/Validation Data'"
   ]
  },
  {
   "cell_type": "code",
   "execution_count": 20,
   "id": "c767a5e2-8969-4fd7-a2d5-7ddea9d5b81b",
   "metadata": {},
   "outputs": [
    {
     "name": "stdout",
     "output_type": "stream",
     "text": [
      "Found 889 images belonging to 2 classes.\n",
      "Found 48 images belonging to 2 classes.\n"
     ]
    }
   ],
   "source": [
    "training_Aug = datagen_Aug.flow_from_directory(\n",
    "    train_path,\n",
    "    color_mode='rgb',\n",
    "    target_size =(100, 100),\n",
    "    batch_size = batch_size,\n",
    "    shuffle = True,\n",
    "    class_mode = 'binary',\n",
    "    subset = 'training')\n",
    "\n",
    "validation_Aug = datagen_Aug.flow_from_directory(\n",
    "    val_path,\n",
    "    color_mode='rgb',\n",
    "    target_size =(100, 100),\n",
    "    batch_size = batch_size,\n",
    "    shuffle = True,\n",
    "    class_mode = 'binary',\n",
    "    subset = 'validation')\n"
   ]
  },
  {
   "cell_type": "code",
   "execution_count": 21,
   "id": "a74da9b4-2e92-4c94-8164-3eab6b21761b",
   "metadata": {},
   "outputs": [
    {
     "ename": "InvalidArgumentError",
     "evalue": "{{function_node __wrapped__ArgMax_device_/job:localhost/replica:0/task:0/device:CPU:0}} Expected dimension in the range [0, 0), but got 0 [Op:ArgMax]",
     "output_type": "error",
     "traceback": [
      "\u001b[1;31m---------------------------------------------------------------------------\u001b[0m",
      "\u001b[1;31mInvalidArgumentError\u001b[0m                      Traceback (most recent call last)",
      "Cell \u001b[1;32mIn [21], line 7\u001b[0m\n\u001b[0;32m      5\u001b[0m ax \u001b[38;5;241m=\u001b[39m plt\u001b[38;5;241m.\u001b[39msubplot(\u001b[38;5;241m3\u001b[39m,\u001b[38;5;241m4\u001b[39m, i\u001b[38;5;241m+\u001b[39m\u001b[38;5;241m1\u001b[39m)\n\u001b[0;32m      6\u001b[0m plt\u001b[38;5;241m.\u001b[39mimshow(training_Aug[\u001b[38;5;241m0\u001b[39m][\u001b[38;5;241m0\u001b[39m][i])\n\u001b[1;32m----> 7\u001b[0m plt\u001b[38;5;241m.\u001b[39mtitle(class_names[\u001b[43mtf\u001b[49m\u001b[38;5;241;43m.\u001b[39;49m\u001b[43margmax\u001b[49m\u001b[43m(\u001b[49m\u001b[43mlabels\u001b[49m\u001b[43m[\u001b[49m\u001b[43mi\u001b[49m\u001b[43m]\u001b[49m\u001b[43m)\u001b[49m])\n\u001b[0;32m      8\u001b[0m plt\u001b[38;5;241m.\u001b[39maxis(\u001b[38;5;124m'\u001b[39m\u001b[38;5;124moff\u001b[39m\u001b[38;5;124m'\u001b[39m)\n",
      "File \u001b[1;32m~\\AppData\\Local\\Programs\\Python\\Python310\\lib\\site-packages\\tensorflow\\python\\util\\traceback_utils.py:153\u001b[0m, in \u001b[0;36mfilter_traceback.<locals>.error_handler\u001b[1;34m(*args, **kwargs)\u001b[0m\n\u001b[0;32m    151\u001b[0m \u001b[38;5;28;01mexcept\u001b[39;00m \u001b[38;5;167;01mException\u001b[39;00m \u001b[38;5;28;01mas\u001b[39;00m e:\n\u001b[0;32m    152\u001b[0m   filtered_tb \u001b[38;5;241m=\u001b[39m _process_traceback_frames(e\u001b[38;5;241m.\u001b[39m__traceback__)\n\u001b[1;32m--> 153\u001b[0m   \u001b[38;5;28;01mraise\u001b[39;00m e\u001b[38;5;241m.\u001b[39mwith_traceback(filtered_tb) \u001b[38;5;28;01mfrom\u001b[39;00m \u001b[38;5;28mNone\u001b[39m\n\u001b[0;32m    154\u001b[0m \u001b[38;5;28;01mfinally\u001b[39;00m:\n\u001b[0;32m    155\u001b[0m   \u001b[38;5;28;01mdel\u001b[39;00m filtered_tb\n",
      "File \u001b[1;32m~\\AppData\\Local\\Programs\\Python\\Python310\\lib\\site-packages\\tensorflow\\python\\eager\\execute.py:54\u001b[0m, in \u001b[0;36mquick_execute\u001b[1;34m(op_name, num_outputs, inputs, attrs, ctx, name)\u001b[0m\n\u001b[0;32m     52\u001b[0m \u001b[38;5;28;01mtry\u001b[39;00m:\n\u001b[0;32m     53\u001b[0m   ctx\u001b[38;5;241m.\u001b[39mensure_initialized()\n\u001b[1;32m---> 54\u001b[0m   tensors \u001b[38;5;241m=\u001b[39m pywrap_tfe\u001b[38;5;241m.\u001b[39mTFE_Py_Execute(ctx\u001b[38;5;241m.\u001b[39m_handle, device_name, op_name,\n\u001b[0;32m     55\u001b[0m                                       inputs, attrs, num_outputs)\n\u001b[0;32m     56\u001b[0m \u001b[38;5;28;01mexcept\u001b[39;00m core\u001b[38;5;241m.\u001b[39m_NotOkStatusException \u001b[38;5;28;01mas\u001b[39;00m e:\n\u001b[0;32m     57\u001b[0m   \u001b[38;5;28;01mif\u001b[39;00m name \u001b[38;5;129;01mis\u001b[39;00m \u001b[38;5;129;01mnot\u001b[39;00m \u001b[38;5;28;01mNone\u001b[39;00m:\n",
      "\u001b[1;31mInvalidArgumentError\u001b[0m: {{function_node __wrapped__ArgMax_device_/job:localhost/replica:0/task:0/device:CPU:0}} Expected dimension in the range [0, 0), but got 0 [Op:ArgMax]"
     ]
    },
    {
     "data": {
      "image/png": "iVBORw0KGgoAAAANSUhEUgAAANcAAADYCAYAAAB4K3ZgAAAAOXRFWHRTb2Z0d2FyZQBNYXRwbG90bGliIHZlcnNpb24zLjYuMCwgaHR0cHM6Ly9tYXRwbG90bGliLm9yZy89olMNAAAACXBIWXMAAA9hAAAPYQGoP6dpAAC3XElEQVR4nOz9aaxk2XXfC/723meK8Y6ZN+epqkQWZ3EQRVFP1sAW+7WNZ8FqP6vh7icLhvHwTMqW6Q+yBNuCAQOy/MWCW7JgqA3aRrcgtxue2n6SrKYfJZIiJbI4V1XWlHPe+cYcZ9xDf9gn4sa9mVmVRVVRSb1cqKwbceLEiRMn9jprrf9a67+Ec87xWB7LY3nDRf5Jn8BjeSx/WuWxcj2Wx/ImyWPleiyP5U2Sx8r1WB7LmySPleuxPJY3SR4r12N5LG+SPFaux/JY3iR5rFyP5bG8SfJYuR7LY3mT5LFyPZbH8ibJm6Zcv/qrv8qlS5dIkoQPfvCD/NEf/dGb9VGP5bE8kvKmKNe/+Tf/hk984hP8wi/8Al/+8pd597vfzUc/+lF2d3ffjI97LI/lkRTxZhTufvCDH+QDH/gAv/IrvwKAtZbz58/z0z/90/ydv/N3XvW91lo2NzfpdDoIId7oU3ssj+WPLc45xuMxZ86cQcoH26fgjf7gsix55pln+Lmf+7n5NiklH/nIR/j85z9/z/5FUVAUxfz53bt3edvb3vZGn9ZjeSxvuNy+fZtz58498PU3XLn29/cxxrCxsXFk+8bGBlevXr1n/1/8xV/kH/yDf3DP9ue/cZNOp/tGn96ryqGhFLP//Dax+BoI4Y69RyCO7XPkeOLY8/nNzh2+WD8WQjBzJoSAmV8x+5yj53k/p0Pccx7/exXnHFjAOpw1vHT1Jrdu3OY//NY/I4pCfuj7/weefse7ePK7nvaX1vnrXeqSoizIBgXCwfqZFQCsdTzzmS9z7eXr/C9/53+m0+m86ue/4cr1euXnfu7n+MQnPjF/PhqNOH/+PJ1Ol2734ZTrjXJsF5VLHFOII8pzj7LdZx+OKdvi8erH96rWwob7nps4tu3hv/j/Hl3suXIZsNoymnyJm3e/SVnmxGFEoBIajRbdpQ4g/I9godKaSlekJgMLS50liqJkMkq5+uI3+OpXnwFe+5q+4cq1vr6OUoqdnZ0j23d2djh16tQ9+8dxTBzH92x37o1TmocV/3libjEWLcfszoYA4eqH4vB997vOi29d3DY7FA6cONzRiaP7Lrx038940Ofe/7vNrOGfbiVzx62589/daMdo3GO3d4c8y4iDJmVuMNrgnEUIibWOYlqAFCghccZhtGE6nZJOMvr7A16+dpXnXvjaQ53LG65cURTxvve9j0996lP82I/9GOBBik996lN8/OMff/gD1XeRPxGprYtz7nC1W3FUwVhQHnH0RiCOmaNFC3Xkt3fHnt/nPP50q8K3QSRkk5ztO7ucPHGa73n/h/ijP/oC4/Ee125c5/SFs5y7NKHdaLG3u8u//Bf/gvd/4IP84A//CNdu3OTO7Vt8/iv/P6oyx1rNV772ZfYOth7qo98Ut/ATn/gEP/mTP8n73/9+vud7vodf/uVfZjqd8lM/9VMPfQznBM59e5eWmK92rzozq3I89pnrw8xyHDFHR60aC/vO3cFXU6j7+oqvsvuxY72WYVoEh/9UWrH73LyyLOP2ndukeZ+izDHWoKuK/d4uB719Br0edATZtEQ4yaA35KUXrnHnzl02tzZ5+eUXqHSBwDIcDsjL8qFO5U1Rrr/0l/4Se3t7/P2///fZ3t7mPe95D7/92799D8jxqmL5tluu2iv0jxw46RC1ygnhji3k+wRO9z49GkfdH3848uaZuyhE7Sbez7d8LK8ttnabHRwc7PPZz34ap6ZoO8G4nMpoXrn5LKdeWWd1bZlTq08irOAD3/1Brl+/zb/85/9PrKyYpgNefsUrl3OG6aQgL6qHOoU3DdD4+Mc//vrcwGPinONPjDtn5s65B2iNA4SrrZiYPT3m+x36josu5FzEoR4f3w71wjgSQdx7lPvGefdBFw+1lqM3gvtc3z8t1qwqNGVZ0d/vs3n3DoPxJqPJPpO0T1GUBEHEyuoaK2trrKyt0mhFBDKi030KYwWDwYQXrz3HXm+bqrRIFRA3G2gtsE4Cr229/sTRwgfJnwSgAceWsDvUqcVTuSfGOvL6g9VB3M9KzXY89vbjllIc1V6/632uzyLIcl9T+RogyJ8W4KOqNPk0Z+vuNjvb24wme2zt3KHX36csS6KoSae7xNLSEktLXZI4Jg4T1pY2GA0n3LmzyfTZCQe9fbR2xGFAkjTJc42xD+dSPbrKZS32Ib/EGyOLKGG9sIw3O06IQ/dOuMMEWG2yXA3ziQV3TkoWLOCrgB6woFAsWK6ZQzp77v/3aov+Qfp0+A1n53Ovhn2H69I9khcZw1Gfr3zlD7h15xW2dzfZ3dtjMBhQaYMQMdNJSp5XGAPt5YRGkiCVxAhNUWUIAYEKUSrBGMdkWuAQBGH4UOfw6CrXt9lyiVpJDpG+BXDDuSMwuZv9f45uHMZmMyVbhNnvp1gP+m5i4cERq7cAlryaPPwl8+d81A3lyPPZuX4nyHEX1196y3gyYDwZMJlOKIoCrQ04idGOyWTCdDohS1OkBKUkldY+gZynNBoNut0lkn6TSucUeY7DPvS6fKxcC58nhNcIJxwCUIAVbo7+uZllEeLwOSwET8KDMOIe3fS7zVy7B8RZR0/IvzB3847vdkTz7t12GK2Jo/vN/dzj+YSF3b5DFOqB4iBKIhrNBINmmqXs7BxgTIVSAUq2sVpx/cYrXL5xmQvnz3Px0kVsJOjvTdjdOWBr6y6XLl3m7NnzpFnO7v4me9vbBGHAw6JLj6xyvWYO6E36yNnqEwKEFAgH1i1oiQThnHcVF904ZlB+fer3O/daG2dKOV/r9yIi98hMH+6Bmu/3eP6OYy/NcRax+JRjL9dvP2YqjwAkj44cv87+puwo84o80yThEs14mUbcQesSYzS4ACfAmJKDg31u3LjOO9/1HqTw7l632+XihQukZU5eZiDsIYD1Ou76j6xyfbvzXLPlNrtsToAU0ivWIvhQWyYcUEP1xw7i3z+Lj9x91v2RdXvUMgp5VC0WXdX7GriHuQnNzuHYAe5nuI7r0hHF5NECOx6EJjsHRa7JpxVJtEyrsUqrsURZ5lRViTZgnaYymoODfa5du05vv08StQllg+XlJS5dusQL116kqHIsGoStv/fxlMyD5ZFVrjfUcj3EcWYf52rAwjkwQuNsreT1FXVi5jY5ZP1XIJlriPRHcgtA+hyBm1fsumN/6wUrHKI2T4f1iof25EE/6j3bHxCfzWsfZ/8WTNWRmKsGY4Tk/hr9CMsM+MnTkuk4pyo0unI4IzFVgKksuR6hlGCps8qgP+a56QtsbW3T7S5z+fI6B3sRxdTwjWe/xq27NxgM9imqjDhJCCOBEI79g/Frnsv/PpTrYT7OORw+t2ZxOOGonAUUCHm0FGoWC7njrpU7XKQcrXJzdUZTLD6/b/B1qJB+sYv5Yj++0Od37mN+5pGjzl3BB1/O468JexiS3e9z/6Tl1fKf9a2p3s9SVnltsSq0NmjtsMYgZYBSIVVp0OWUsqzQWiOVwFlHWfiawmk2AWFRShKFMWFocZiHOs9HVrnstx2KP4yV8nyKNQZrNY1GgyRpHFoH6e9cUgjvIQpwcsECuYX7wux/CzrwoGVxRNlmAMjss+bBljuiQH4JLbao1Nby2IfMXc7az5vr4nGsY6ZNUhwCobUle0Q8wfvKEV0TIKWg2YlppRE7vVe4u/sS2zt3wIUIAoKGAgLyHAIVkCQxSZIQqJBhb8ywP2I0GLO2vIaQBqNLptOM/mBKUfUoqulDndcjq1x/IuIczjqGgwFaVyglkFIRR42FmMuBEFjpUMfL2LnXahxNNrujq3QGcCwq1YIiCuvm/V3z9pIFM+MW/j//PI4nn++jFTPNXAiw5pgKhzcN6r8CvPW851CvZgvfeHnoih0B1lVUOmM06ZFlY5SS6Mp6xNAF6MowLPosdbtEnSZKCYzW7NzZo8xLllc6XLn8FBvZBrrKGU8yer0x1259gyzLHuo0HisXhz+ac2CNZW9vl6oqaDRjojCh1VyqY5UFC2LFvegdR587h1fGmZsi/Q73Lj1RK7Z/09ytEbOYy/mk9KJ7d+xuXYfahymMRaWYa89Rd28WJi4qqxD4urwF5ZL1PofVH6/ilv0JWLgj96v61Cqdk5cTBoNdpumIKAqpyoqq0oQmwBjNYNij0QiJknVUIKiqks2XDlABbJxZY+lEF2MMpc4Yj1L2DwYcHGyxt3vwUOf1WLlqcc6htUYbzdrqGjt723z69z7FB97//ayunpq7bULUbpPyLtqhZRGHFsMdAhIsIJ73MT41tLvw19Y71n7akf2EO6aah1jlPG01K1gVbl74a6Wba5E/9CE2uGjZjtQjOo5YsPq+8ACQ4yjo8ii4kM1mm5XVdd76Xe8iibtk+XNoM0SbnGzqQFjaHUWlJ+wdbLGzs4W0AeNxwXjcZzQ+4OLFp2h3urRXupzaiHnHO5ocDLaJkoRXbt5+zXN4rFwLMmtFCKMIKRXj8ZiiKB9ctgTMFtYhIvgach9L54uUmVdyz7Yvdho7Wyvz3Bn08dhM2er8t7dcdbrAx1q10zkHRY6o9jFlOB6Ezb5bfUzJPecvZnHgEQV7Ncv28Ps8nBzf1x83iiJarTZnz14izyuu37zFdDJFSEtVVCgFSUPhqMiyCYP+gFa8hBMxWZ7T6w04c7oCB2EY0e0ucWL9JKdPn2Vv/+FYzB4rF/7HFEKQ5xnj8Yg0TWk12/zf/q//M61mG+dMDWMLpJQICVKI+eI/AijM18wChjhzO829C8ramSvn/TnnPJAxO97s/TMYfXHheVu6GNgtfr5/IKXwJki6+rhuwZjOEqNi/vjoZ3hgwwqHVAIpDy3X7LsLsZCHe4QoZhutJmEU8pGP/HnOnn6Wnc0RusxIsz2MjohixfJqSJE7Kq25+vwL5Knjw9/3I8TNCKyksinDqaZyS4RBiDjh2NjY4OL40kOdw2PlWpCqLJhOx9y6fRNjNI1mzMULT9Fu3UtEchQ4OK404sieR953JCZzGOPmLuGRHcTh00XlknOE4WisCMwr6Rcr4l3tygm8OzhHAGfo4VyBqZFEdwhiiEU3zye01SzXMLeMC49n4O7hYe+9bg+BSSxa02+1BE4gkELRarbodJZYXlql1eySJE3KvEIIixAKpQTOKg56+8RRk9s3b6NzTavZZDDaR2WCK0urOGGZ5iPubl7n+o0XHuocHitXLc45sjxjMDjgmWc+R3+4T5r3+XP//f+FSxee4H7I2KFrswC71c/vG3vUOjRzA51z6MrUxxHzRT1b2LNyG2vt3LpSx09CzKzeITIxi//mbqbfjHKi9vJcDWoslG7NXrNujloulnXNnjsnPHopfZwmpDhMqNdKZueWj4UvcniMb5s4cEaAkcRxRKfd5uT6aTZ3TtAf7jKdboG0YAMCGaKikK3tW4xHY0zW4sLZc1w8f54Xn/0SxhW88x3vRShDb7jFl778Gb7wR597qNN4ZJXrxZdepNVsv+73vd4GS+ccUknCMCRJIi5feRLrDAe9Xa7deJbV1VWEqF0qB876gEYI6cGD+q6+6B7Njnsk78xREGPmDvpVCcb63Jl3Od1cGZz1+84/IxDz2g9bu4SiLrP3x6V+D4BAKpghkbIGYZzzyuFdxsPk+dzgzY1j/QUk8zIsgXeL/XerXc/j33GGrszcx9pdfngFe/gSo/uJxdbXUuKcZWlpife/7wNYcqIwpjK/z2Q6YXu7h1IRQRDTSjpY69jZv8FwtMVLr3yNrd4raFsyHn4SFQCB4ZVrL1FV+qHO45FVrn5/QJEvtlPf52q7+269//4P3NehlCKKIk6f2WCpu8ylS1dod1r0h9skSYIv2vSWwc5csdn/HuDCzCosjmyrsQRbL/ZDC+arAqx0yAVAAmrrZGef6XBSsfDM3xykmPt1zoK1AmuOnotbsCTOOoSUoHzcOG/MnLmUMxBkplz1a1KClSDd0djOLuCPi3CJWNwwO8Vjv8JRhTu0/PeXV9POw6syA2JmN4g4iTl79iwXdq+QZhmv3P4iaT5hOskII0scg1IBUiom6YDBoKIqC8bFPtqU7G4eoAKBiqDf72HNd3iz5FNPPn0s1rnPhRUPfOXB77nP+4zRFEXGeNxnb38TYw293i53N29w4fyTZFlGq5mgAkUcBWjjqKpDN+rQOiwo3szFWkAS59UVFoz1imONre/qCmusfw5zS6SURCmF1hqH87FCfSBjrN8n8AvKWN+rBBJj6tWsvVJICbq+4frjOlQgQPiFIqWo83yHaQSHnQMcIlRQ11D6m8KiOh3GdvO7Tu0qesPl6mTZt8E9dP7mUWY5VhukAuM0B8Me73n3+/jud7+Xz37uv6CzHqurHaSKCYKEixeu0Gp06PeGlHlGnks296dM0jFKhJw9c463vOVpvv71rzKZbD/UqTyyyhUnCY1G49jWV1eWB296lV9UeOUS0jEcayaTEVmRcdDfoz/oUZYFSkn29vdRUnBqY2NudeZi3ezmfvSmKzh0uZx3+0D491uHMzPAAqwx+EY8z6E3Ux5rD0EN8IsfZi6g9cepTeLMMri5ZcQrqQQrBCqYlTX5YmRXL0RvmdXhudRlZ65GEKUApwAp5t9x4dZx6PK5e77+UWN0BCCpNy/Ehq/mDj5YKY+/x3+Jvd0dRoMRMgSjIQ4jGkmj9kBClAxptCKcCxEiJMunKBWw1F0llROsBimVd9OlRJuK8XiIoyIIv8MtV5JExEn0bfksayVBIDFWMxz1ubN1g739bW7euUmaT0mSiM985qtYY/mRH/4/IKXC2fqOjl+Ms1jjCAdF7V7NLEygZG3JJM54y4WQOGvJ83wOOARBiACKQvvFrRxhGNYWzB7GbMbULTF1DKUU1NEYVnpF0dYXIgNJI6gtoZzD7bNzkyI4BFm0XQBRQEmBCg6V9bDwkDrfdniTmCmJF8G87HLBNfWX6Kgle30x2QN/ScDihOMrX/kyLzz7PEHTcWbjPB9+70ewImCaZkgVETdarK92KUpHWcL1Oy+y3F3nh77nxzjY76PzbRqNJpqcWDWZpmO++ewzSFWQNL/DYy5rOBI3PJx8a1HwLCyPwgaNRpvRaIwxlne87b1gFM8/d5W1lRPEcYJ1orY4tSUSbo7azSyBcyDVrDHrEB7X87jIYY13CS0O5yyuXsxSgKpv+UrK+eJ2jrpF3Sul0ab+LIcQEiEFqq5FnFXxO+soy4oZDCkIAUGel8i5kvlvbxaUFlvbJMs8d+WcxTmBdSCdA3zst8iofWi5xbzYdxEkmZv3xVxdvYNAHOvsvr+FW5S5Yhq/g5D+xgUO6xR5abn6/DOcP73H2fUnaXVWsU4SR00un3+K//OP/yWu37jFjVu3UUqxtnKC7/nA9zLsD9jZ3mbnt19Au4p3v+17yfMp/f42g8lN0mzwUOvq0VUu5+bgwQPlj4Eo3XssQRBExFGTqqxQMuDypScJZMTm3U0uX3qSTqfr3SlmtG/eD5rlqmbgg3M+6Pde4OFJauvhRVfHWtZYrPN2xVmLUNKjcfX+UnhET0mJdvXir983h/AdyFmC2FmECuYAhTW2JmMRtavpj1yWGqUkNlAEqo637Oz4s7OdIZCH19o6V7ejzIOyBUt09CeZgTk1tlD3qXGoZLP9j8WjwOvuIzNaY60jCNX8AFKFQMC1a9epcsP27jarRhCECYEKWFtd48Mf/FGayVexVUQSt1hfO8ETV55gNByy1Gmz9PkVsiLj8sWnmU4HhEqR623y4uEW3utSrl/8xV/k3/27f8fVq1dpNBp83/d9H7/0S7/EW97ylvk+eZ7zt//23+Y3f/M3KYqCj370o/yzf/bPXh8hKMwX0bdDrDVUVYWzEEcNPvIjf44wCOm2Vmm3I1qtCKU6SBkShgqjHZU2WPwCN8bHP9ZYjDFgHVKpw6qO2QKuLYrVtWIZNwcBrHUYq6mcQynNLDaTSs0XKAi0NpjKUBYaKRcU2Ai09uCKVBJrvbtqjPa8EUownWaAd/vCyLuI1nirGAQh1hiqqqwtpsBYR4BAKb9onT1MOcw7rRdkMX46jP84YpXumR0x6wxYfO9CMvpIQvqYws3ec+3ai0ynEy5cvECj2aLR7PD+976XcyfPsrd/FykUW7s73N6+RV5MubPzCq/cvMr/8jf+GlGYEEcNfvAHf5BmR/EHX/j/cuf2ATeu7/Ld7/heRADPP/8CYShYXVvlznaDIn84tXldyvV7v/d7fOxjH+MDH/gAWmt+/ud/nh/90R/lueeeo9VqAfC3/tbf4r/8l//Cv/23/5alpSU+/vGP8xf+wl/gc597uMTbTHr9nndpjst97pKvtuVhxNSLar+3x3jco9VNAEeW5zSaCqkkVVUiqAn7DXPUzDrvovmFbDzgMLvj1zGZcmIG4uFcHefMEsDWrxhrD899lteqU2pYK+Zom6stiDGmzld5wM9DC9LHf3Ngorak0ltVW/kTd/bw5uWEQDiBrizWzisVOYSyj8sCpj9/fgzgOSZ1KOkfP+D1+aGO7XB007GOglqJh8MBB/u7ZNmYkxtnePKpp1EyQKkAY0pyXbK1e528nJLlU4SqcKLg7uYt1lY3WF9N6HY7tNtt9vcOGE369Ac7PP3OKzRaDa6+cBWlApKkBSLC2Ier83pdyvXbv/3bR57/y3/5Lzl58iTPPPMMP/ADP8BwOORf/It/wW/8xm/wwz/8wwB88pOf5Omnn+YLX/gC3/u933vPMY8PvxuNRgB88Zkv0Ug8WngcDJpteSO2O7zlKsuc/d5dRuN9mm1FGEa0mqs8ceUyly5dpJhYlAw5uX6KMEgIg4ZH96yhyAuP7BnDYaAu5gs8CARKSZ/ExbuRC1GHBxGMI1CKIFA+D+Ys1lQ4562QVGJec2itpSyr2h0EXIRUAYGSaOOwVtfAibc2utRUwuDQXtllCE6DtQjlz7XIDEGoSBqe3cgbSoWQDussom7oEojaxTuGx4qjj2cV9h6oeBAKeNRq4fGdueWa56LnXJHct6h3d+suLzz/LH/4pc/z/d//w/z033yare1dXnz5ZZ5/6Q+ZpD3ipqSs/I1q40wTTJPBnuLE+jKnT53lyuUrdDodsiwljDaxcpfl1Zil5VVOnTmJlCHNxjJCttH63qk895M/Vsw1HA4BWF1dBeCZZ56hqio+8pGPzPd561vfyoULF/j85z9/X+V60PA7J3KckAsaseCbc/She8D24yIeZNmMQcgSa3OqKmM6sQgpGU2mSGXJixSTO1rNLqdOnvNoYW21rPWQudEGravDkiREXeirfLwjgFmOau7mecW2NcChncZY7YuDZwu0VlBb3/6N0Ritcc54cMHO6jXqthdr0MbMYxzhvHJYN6vQmIEwBq0N0tVgiAwwxpBnhjBUqEAShqqu5Jihnxxa5flFn6GjD7r4r15tsfjaIuo4/2FnSlU/P4aHAKCCACklB70dvvaNL/L/+o3/ByfXL7Cy3qbdXKMoStJsSFn6mLLfqwhUQJi0kGEJsqQsKybjKTdvXmN3f5tpMeFge4TJGgSmxWQ8ZHvrDsNBj6p4kwcxWGv5mZ/5GT784Q/zjne8A4Dt7W2iKGJ5efnIvhsbG2xv3z/x9qDhd4gSf1u99z3HHZYj+ZQHyH1fnm80SKVxVBhbUGUFxhoK7Vu8x+MRyirWVk6iZICsAyVn7dy98q7lTMG8Pyelt4BSgjC+rMkdOxufy6rdNmtwGKIo8lUXNdzmrKXuo8RYjTZ+P9/vJedH9OU+zuftakBF1VUl2lhCJRegb4vWBkWAdBKl/G+qdYWQIUIFBGEwTylIIebWkBpIEUcuvFj4/30c9nviMb/f/Ri+jivj4jy0RRdy9s4ojAjCgPGkz/PPf4393h5/6X/8KZ648ha67RNMphnD4YCy0GhtEa4kTkJWV0JkUOJESZEXlHnJrVvX2Otvk5ZTDnZHuKxNaFvkk21u3rrKeNR/88ufPvaxj/HNb36Tz372s9/qIYAHD7+r8hx1P5Vw30pk9ervcNZXN7SSFiyvc2fzOmVV4JTg7uZNbt++yY/99z/BxXNP4JwP9AWGLC/QWvvFpwRhpGpuPG+NpJwpmUOIAGttbZUWF3kdr9RVsIetLI6qsvPawrjR9FTLeVkrhkUKhZO1qybmdRs4qxFSecsZCJQRCKFIkgghoCw0rs4yl2WBkJKW9KBHGHkARVcWXVlUIFHBLHnsDs/VMVeM45D5zOIyb8mBmYu4GJsdt1DHY7NZzqzOc9d0d4cIJAKQ8Pa3fzcrK2s89/KX2N7ZZWdrj2ee+QyD3hY/8RP/E1vbt/nU7/1Hbm+9yMFgi1a7SRwlBGEbpELbgrs7t6lKzY07t8nKPqUpOEhfIWzmvPUd76Gz5cjMgOFwTJq+iW3+H//4x/nP//k/8/u///tHBi6fOnWKsiwZDAZHrNeDpkq+moRRTBTFbyzc/gBxzhE6i8ARhgH7+1s4ZzHCkOuKIq/otJfodle8C2hMvTBLjDY1DD7jMDxcHq6OnRYntjwwWTpzA+sF5aAGLWZ3kxrGd7NiXouQHsXzbqc4/Mx5Qukw/vEuqv8oY3yODOe8CynrHJsUKDU7icOYzblDrvyZS3jUQt0Hiai3HzJULXxRt1AkPPvj7n8Uh/AkrA/6FOfoLi1Tljnd7gqDwRhjS/b3t0iigIvn3kkYKZSSBKEgjDxttZQBgpiyNEymU/Ii8+gtilajy1LcotBjBpMd8nJEqXOsmbnED7coX5dyOef46Z/+af79v//3fPrTn+by5ctHXn/f+95HGIZ86lOf4sd//McBeOGFF7h16xYf+tCHXs9HceXiEzSbrfrZvXfIh9m+6Dq82vbZHbWqSoqiQCIYjg84GG4RqZCqaVjurtNsdJmkI8qiIM9zJCHgE7FSKqT0xZ9R5CFzb02kT75af6efwdjz5KmY5ZmEzx8JfO7LunnpVRgqyiLzCqcNWmuMNsgw8K6f8jGHV0Zb/ztK2TRDGK21/s5brw+tNSrwVs2XR7nauh4qmDUGqaSP49xC6ZQ7BBvqKHN+PRd+nbnyHCqUmH//++XIZs+knLXKHKrVEffSe6zESZNGs4MrmygZ01lWbO/cZG/vLi++8hJplrK9e4cg1nSXmtjCYbRAV222e0OKfJfv+8CfYWVlhaefeA9nz5zm0sXz/L//11/jpWvPc/WFG6TTgl5vzGDYo6zehJjrYx/7GL/xG7/Bf/yP/5FOpzOPo5aWlmg0GiwtLfFX/+pf5ROf+ASrq6t0u11++qd/mg996EP3BTNeTcI4IIofcHriVZ9+S+Jh7RAhBWtrJwnjECsLmk2N0T6emcU6sxpA62pMHrxyKJ+BFUISBH5xCiHrBVLXAjpZu4sAs20OZwUWjXOaSs8QRH98X1TrQQlT58hm1fBKqboq/tDSCeGLfZWsk9LCIaWrwRN7aAGEwDoLFh9riYAglPWdvS6fctQVGzWt9yE2U3uH4ijz9cKNa+6+Lbp/HN7M3HynY7/nMTfTx3dH21ZmLqRzPile5JY4WCIgoSo1LihxCPoDS55778M6UKFEGI2gwrkMXIVwjiIrkV3Fu979LtLplFdeuU7vYMh4MqXK9ylLizYlKtTEb4bl+rVf+zUAfvAHf/DI9k9+8pP8lb/yVwD4J//knyCl5Md//MePJJFfr4SRIIyPX+X64T17H3c9Fh/e50K446/XDp2SSBWxfuI0SauBkRlWAy5ASEmlS4IAwNaLzdZxiMAKj9ypwN/1g0Dhb+mi9oQ8qihnbEy1Czer7fOV8hpjS4wzC60mXnlmKKSuHNr4mEkqQRB6NNLHYRrnvCUMAg+8CEAIg5AOY+vE9cwHFbO6SEtVVf59ofKKqSRl6d1fW19/4fB0AU74ahJ3eC3nCrEQPx1+U5j128zSE8d+0mO/k3dhF+O3RUDjeItPllZkU00jWiWQLfKspNEqQRpGo5KytFSFwVqFrCShMggKHBOEhEAqsrRAiIAPfPB9/OHnv8BnP/NZdvd6jKYpWWDBKhySIDaIN6Nw92EaEZMk4Vd/9Vf51V/91ddz6HvkhZefm+e5jp3F/c/tgS+9yv71gzk3hvAxzPbOXbJswnh6wPr6adbXN8iKCWZQUVU5rUaHbmuFPC/rnFU9+cJ5QEIKWbuEAoSsLd2hlfKupP94pSTGWPKiJvyXkGUlWmsEHqVLhaLZTFBKkmYTpJBEcUgcBURhwKxKRBvrFaj+LAQ1sund0Tyv6pYSHwsZa5HKL9YszwEIwoAiLxG1QoOPw2wdswkl64U/y+N513CxYHfeNX3sii/C7PPH8xvdjGF49vocFTn6o90nBAhCRbvb5ns+9CHCRPDSy1cRbg8hci5dPkegEiIVMxyXTKYF/d7V2sIHXDh7mbWliyjlB9sJFJcvXeajH/kIO/+fV5hMxkSh/xxnA/LSA1oPI49sbeF0MsHoeyHPNwzfOHqjRApZw9ya3f275HlKXozpdleQSjBJhygRYI1GiYBW0p3fbGRNKuismBfRzhfYPOHqwQ2Q8/cdLkIfDwnlgfXD0i+L57QxNBoeUTVaQ6BQKvZxkBQ1O3GdL7N1veIi9FZ/X127lEoGzJoKVX0Mo828wsQ5i2ds9jcdaz3iOV9T7ui/I+7dHCpcuLjHLvz9YiiYGTe3YKFmgMjhMe45uvDlXlEcsrGxwYn1U3RbJ0ntGG0K4jii0WjSaS4ThIYorBj2X667GgKWltY5d+YyzjnyIkcbTafT5uKlCyRxw3eHUk85kXXN60NW5T2yytXprNNoeEDj3pvV0YvN4jPBfV4T9+wsFv7vawtLXrn5HJtb17m7dZ2iyNBVUdcQCqbDq4Qq5uL5K0wnGXs7B5xYP0Oj0SYMvGsmA3XIklTfhgW+3RwkRaGZuYOzusBZPKVNRSAVUiqSOEYHiqoqMcZSVXoer/l+r4CwBjOcMxRF4XNt2qKNwThLq+ldVCUVVeUwGorco5tR6AGKQCmSRhsl/dA3XZm6pcWvnjAK5itZ1DC4FL60WFiHW0ADD0lEfVzmaoRy8ec6tFxeIz1iOX86RzYPrduioi3uc3RuWRgqpIhYXuryxOUn+OEf+FH+2xf+Ldfu7gC3WV5aIz69xPnTb6FxYZVbN5+lKDOiqMHZsxd4x9vfzef+6HeZ5Lv0+pdZXl7lwvq5eWolSwE0jpws05QPh2c8usp16uS5BbTwUMR9FOX4Hve8/CCUsX6mTUWWpbx83TIY9siylLIqsHWD3N7eLpFsk4QtWs0uRVbQHx2wunJyrkhy7loe3pF9B/CsQdFvnzci1gvGGI/YGWN8Y572ihegcC5ACN8rZp1PAYRRTBgEzJobfWpA14lsi54npX0bi0PUlszWLSbUcZUHLgKl5pZXSTV/L0Bg3SEb1GxB1wpy2HUtjpoTCdi6/YPjcdJipHs0ZzZ79f4x1iKqeOguHubTDo8fxzFrqyeJwgRrLNNJhhJThs0JzWCCbCQkkfIhgDTkpYfb+6MtnNNcv/kSV+RTrK+vkyQNGkmHzlILhMWiMXs9qjejKv7bKU9efivtdvfb8lllVTAa9fmjZxwHBzukWY61GlxFr99Da8WTF99Bq9Vmfe0Um5t32N3f5tLFJ1AzHoq6Y3UWX9Vkgb6VngWErIbEmSubd8c8GGGxVhJFobdMUmKsqavcLdpBI2l6hFCoGvTQGFNhtKWqDJV2WCcwxngUEVcPlbCEUYjAEYWeUkxJiQqUj+HCCITEWl81Dz7n528edTnWfAKSd41qPTosjZp9UemOLPgZ9H6YRF5IKNv5pVjI8zEHgWaHnL9ev7ho4WRdc2mcIYoTTp487YdnWMdoOKEqJJJ9AtNFdzStliAyCmTJcLLFrc3n2Nx9iaoq+cpXA5qtBm9929tpNbssd9c5d/4iQlYYMrKpJp18hzdLLuRB33yxIJCEQUwSt7wlsQJjHEHNm/Gud76X9dUNplM/22ljYwPnKopyTGulhTWSqqzqBeJPfpaY9SVOxtf4zVwhf++ua/w0WlcYI5DGw2ResSwqUDQazXnnaBRG8xyUh+T9MR2z2M9gjZm7gEGgMNZirKPdbniYfYEbQ2tv7YJQ4pzBGb9whJjFcjO6NuGJb2zNAjWjyxaz1/2lFJKF7uMFN5AFZbHOUyPUjZmLCKCtGzTFETPmreDMG5jFbTMAxDlvKZudhPFoyDQdo0JHqx2RZz7/Nxzu00kigmDK5Sc6jKcBz1/do0gddze32N3fQgjY2bvL177+ZdJUMxwNiJOQJGlQVZJsUmAqC+47XLkqbY7VcH0Lmubu+/Dez6q0T6ZKRRzGFGGE0OCwhEFIksSc2jjDytI6L1x9Doel2+lg0VRVQRgqNFBYM+/PEmLxM2cu0OzvzE1081FJs7Z65xxaSaS1aGtRShEEoefhwyd4Z7ftI+AFdUey8FZR6wXrWFdtRFFIECicqebKVVU+/+PTCp7SW9WlU8zO1euCZ6ZadOFsfYsQh99ztr+oAZUZMDHfwy2ghnNrdvQ3m/d8OWYY4qHreOS1RVo3QRyHqFBhnQeAut02RqdY4yiKKUU5ptKKk8shyIoiz+lV+wyHI9J8TBgoRpMBt+/eoiwEWT5BKUGgAqpSUxa1y+zeBCj+2ykvv/ISzWbzPgriFp/UD+/VoiPb5q/dZ6vzdYVFmaG1Y3VlAyEFRZWTFlM2Ns5w5eJTxElCmmc8e/VrbGyc4tLFy5R5AU6QJA1KachzPf/xlVIIJFVl61zTrNfKgTuczeq32cO8GL5J0uBploMw8qU6deJnXvkhqQdHmLqCQpHEfqavrBezj8FKH18Fqk6CO5zWBIEHRaTyVfNlVSGFQEnh47D6/J0FXRmUlTglOawntlTWAy1B6CtEglD5GkB35PIuABN1eZbxFsqaQ2t2mCdbUKZFbJ7DEih/3fxkz1kSWwhBo5Wwtr7M5SfP8WHxZ7hw+TSf+cynGY+HTKdjwjAmjpfJshs4V3Lp0jrb2ym7uxO0yQlDwV5jm/5gyLVXXsGhCYKIUhdkWcpoOMZajQzvXVr3k0dWua7deP7o0DnguP05fO3Y9qMvHnu3O747znlQIMumhGHkF6X2bliSNOl2V8kLPwI0zVPyIqXSGVHcpJE08fktX6Y0I/uctY1obQjUDJrnMIEL8ySyL/Kd9bYfMufKunNZV9V8RKzW1gMeM/7COv7xQxlqMCTwyStf5aERMiQQgrKsauWZlUMd0qrhZK1cdenTQozkc2Pe1Djl2aRwbt4NIA/h0bkCuNqPm6GmR6xVffM/jMFgDjIdy48tooJzd7p+n6lBmzAJapo4SdyIWT+xxiX9JI1mxI3rr3BwELF/UNFqJcRxQpoWGKtZWVlmMhaMQoWNAlRgEcJQ6Zyi0gRhfROrSpxzRGFMEAYEwZvQLPntlN///G8TBK99eg9SpFd7x0IYAHhFCIKApW6HJI6ZZhl5kSEDR7PZ4cSJM/T6e4zHU9I8Y5INGU52eOLCu1junsDUTFDNVkRV1soiFNpoyrxCNsJ5JYVPuEqsMzhHDWSYI5Zr5lcGdQtJmmWoOiltjeeKCMPg0GWzns/QGF0Tz4Ro48un8qIgCDw6mE5ShIDl5ZaPy7SH9aWUKOmVK6h71ZyrLYsF52piDQXaiBqvcHPoX6qZMi+4dPN81uxiz3J9MPOsDvNFbuG7H9/mZRFt9DccTVmUFFnO0lqXWPqK/3a7zXKnw4lTqwxHT9M72OLu5su8cj1nbXmZdqPFy9fHqBAuXrlEmXWppgYZlyALrNqlmFYeLUbihCXLU6QIWV5eYVw0KMzDma5HVrn6w705d8ObLUpKoihiZaVNu9uk2UxAGAwVu7vbfO0bz1DkmrKsSNMhBwcG50rWl67QCJexDevpx6REJjP3DWxd+uTZmmxdjc7C9zpEw7T2FkDKw7uisxZfgK9J4ggpJJWucNgapRQ15VowTwEo5XNb1lmkdR62l96KqWBW+S4x2i9QFRzWJjqordkMXjc+5rECMWdYAiMcwhnyws8bDsIl1MLg5lnf15FJmg7cAvXc7P8za+6Zrw4t/KG4BfB9cbOjLApGoyFhLHA28VQTwlMqzGJcpXwpXaOhEGqMxpE0Qxww6E8Rrs1Kt0Nz1WJFxsGwRzbOSaclUeILrkejIcvtDTbWL9Kf3CUtX3vYODzCyuWDyfsr1wNTXIuvvspOx19SSuELcg1B4GOHQEucFgxHfbS2TMYpzjkajRbT1GGdJkvzuufKgqypymrdsM74BUntWs1yT25GSnYo85YUMZtD4hfhzHUzxhAFCqFm0L23eEEQ1ICHqJFHPWfolRqk9LGcrK2Kt2p+ERt8qZSs49BZrGRxNVp32OHsi4rx8akRfmer6+6AlHa3De4w4TxHMuCoC+7gcBznwgtiNpLpwb/TvDh4AQHRWpNlKdNpgHOaKAghCpAq8Aip0RhbAYYwFDhSKqMJI4XRMBnnONem2UhYWhIYoD/2ZV9loevfUpCmKUstQae9Qhw3CYKH49N8ZJXrwrmLhOGC+a1991dXrGMiHn5/ay2bW5tcu/4yZZWijaHSmjBISJIGRZkSRTGXLl/AaENZacIoQgWKvMhIREwUe2Ib62a9Xhal/CLwrpuPw2ZJ3dki83HGrN7QUmpfhjQnvtEWJcTcTfbtMQalQoRQtFoNv00XHhEMJVChtS9bksorWBiHtcXzli+KQuZBEApfKWIJQlXHjLYGfBzOSayTYDzcX5ZTDno7DAb7tLstgkDiiJgNT55P0ZwpRZ10FrVP7vNmEluVOGsJZISYWW5RH2auSIfJLw8OQRSGCGkpdMpXv/48RZGy2jnBuQvnecd73s3e3j537lznDz7/GdLsgGZDk5dDKq1ZXVEgJQc7AwIJgapQaUWhU/Z2e2QTAElVGaytSGWftNgnLXYpqwJzH96k+8kjq1xLS8tHlOt1KRVwz23wVcRZizaaNJtQVSVxkhAYTT4sKIuSLMt9XKIUlS6JwoRmo0Oz2SKK4nltn7dAZh5oO2cXg5A5UDGDcx2HAx7m1R2iJqeZNVlaVwMu3gwe9lotoG9u1iA5qzyZVeVDVS3gbdaBFARRiNAO8HmsQ6BgVtkh55UZrv4c6xxyRjqKp4sLAkEUykOODf8p9/5m7p6X5q/73jRNENSV/IveijtylCMH9Xk4j/LevnOdfn+fVtwlrzLOXDzPdDKlSAvyultcBRJKV9ePOrSWOAKk0gRhTmVyytI3TFrnDayPCR3a5KT5gN5wkzQbU5QFDyOPrHKdPnWaOI7vAR/u+YXg2D6v/3Vfv1f61n5nOH12gyzP6A+GjMZj0rTkzOlzRFHEnTvXefLy23jLk+/g9KmzdJorDAcjqkpTVRXalL4iwtmaxcnUvIEK53yZk640h7zwop6yEmCsv1M6V7fhM6OndlRV5cuf6htOEHhCGT8R0//Yztm6aRPiJERVgunEZ2WFgyI3uFjQ7bSoKkOelZSl8byL5jDfZuphEHMGK+N83kq5msUKgihgTXTodCWNZjJH0Bah98UU1eHxFudFO4osI09TnGsSxzHtKLrnNztyn1zwNouiYDjo84U//CwvvfwcWZrxwQ9+P0vrK4hCUWWOJGgRBhVLS3V2O3VMJiOcVSSNZZpNTaOR0xv0yIsSpSKE0hjheUisdRR6xE4v5WB4l/E4J8+/w5PI129cO+oWzuV++as/3mf5eMXh0HS6HWSduF1eWiHPKopCc9DbJYpCkqSJs5Jm0vY5IK0XCEE10+mYqqpotZYRwpJlBUEcEgQBRVFgtKaqynl50Ayyn6FpnoG3wGIwJqpb+s3CwpxB9R5qmzFMgb/TGm3JTYXL6sbIGpoPo5Asm1W9K6Tw7SVCSqxx5Fld9VAf28eICmqrqCQ+XqtLqqqqZDwZM5n0iZMVHJIgjJlZQB93+evrv94so+yhf60NZVmRZxlZmvomxroiw83f699z6BkexlsICFREq7lEp7NCu71MUeZs7dzhv/7uf+FtT7yNpXabuGkoyoppWiKEJUkC+gcOFcD6RpNGnBAFIYORv4lYK+pysACr/XnoymA0lOg5j/7DyCOrXHc37xDcD9AQiw9fh7N4j3dx5EBIIVleWaLdaXkXSwha7Q66GpNOC4ajHkEQsLoc4JwgChPPCah9q4epSUHTdEpZ5Sx1V9F4AEJKfExSJ6wrred8FVIGh9NPakvnKHForJG1JahdROpCYDnryvXfYYYwzvJmxvj4CxxB4BPIYRiQpXXy1vqcUBDUPInGUpUVszIk55gT48wGivtBD77i3zqH1po0nTIcDlhdzQnCpHYh78UwFhIM/qovKGiRZ54rMPZsU0dTK7PrYo8esH4lCGJarS7dzird7iqjyT4HvT3+4POfYbnZILl4jijSVKYizSZEceQpEypLLGFpOSIOIwIRgpuRtYJAEQYSbUV9Az2kMDdmQcFfQx5Z5bp48cJDWa4/ptHyx6gVY/PuJi9efYHSeMsSBCFJnNDtNtGmBCExzpBlGYP+kG4zBat8/slqsqLAoH0/l/QDC4S0DIZ9rIHl5VXCMCBNpzgkvuXfV6NLpTCuxGqLcxXCGVQgccZhnJznosLQL8IojGpOREGW5bUVdMyAESEkWmsm0xHL0pI0BWHswBkG/SFh6FHRKBQEoWBpOSLLKkbDkjBKUNJX5FNbyqgReArsQIIW4BTt5iqBSGg1uwQqZDIeE8YxcRJ793RmgQQgFtxB4fkXs3TKcNhjMhwQJ4o4Cb2rPK9UWVCyYz+0c9DtLBFdfIrvfueHWGqvsdRpU5QZVVXwxS9/ime+WlCYuwipUSGMNzVZaml2Y2xh+ebXrxMoUBL29jR5LijLAElEEsbk2mAcxKEiSWLa7RaD4QFZOqXXf+2465FVLiH9/F24jwIdRXHv/8ID5L57CIfDUhQ5k8mEUvspIEnSIFAhYehjI59oXqbd6hJHDSRqblnyIqVI+zgUSvpF4vDVFEZXlKXvGavq9hKHBSexJpgFJPNhCLoqsVYTSHB1/mjmOs5yYT5NMavo8N/MOkugFEIqPwhPgLEeVFFK+OJcA2VZIkRdZ1jno1TgeT9U4EugvPvnUwui/rxZTswI6nhPEtaFxMYYpmlKyzmiOJpbsMO2kfsAHgKf4A4Uk8kYFQY+P1cjjvePuw7BnBkvZLu1xOrySc6dvUKWTphMhxz0XiDNdlFRQRB6ThatHXluEKG/6VlTzpVL6wBrJcZQl5fVKQ0hkSqg3eywvrpGWeRU96NZv488ssq1uXWnRrxep21y975D3PPg2Ftqty7LpkgpaTY9R2AQRJRlSZ4XtNsJS91lvu8Df4YnLryd77rybqzxlel5NmZz/zpXb32Wt1z+ICdXz5OVKVJK4iQkTadok3Hr1q06oezLlKQUlKWuYzyFwwMdo/EBxlScXD+BJAAXeH5ELFIGKBkiZTBPyMZxhLWaopySNFo0khYHvQOMhSgKieOEJGn6IW6VJh1nBIFEyIBKW4RxhJFGBY52N8CUszhP1oCLXOj/gqo0TEYjEAYhLEWeUlaaa9dvcO7ceTqdjncrBfMYcZY38/GTra9zizNnz5GuLPO5P/gcyysrnLt0hSCIUEpwvGN5pmCzY1ZVxWQyQcmAlaU1nv6uP8dkmrK7t89zL2i293ImqSEOBasrDcq8pKoqNm9NENKwdsJCHCBUQNSKEKFgmoLxnjDt5gpBEKNUyJmNM7zlybdQ5gVZlj/UUnxklSsM5UIN16sr2MOq34MiNOdAWUEYhYRRiKup0pQK8P3uhmazxdLSCmc3LtJpd9A6JwxjEJZJ0ScIQy6eeTtx2KEoNP1BD6MNeZYTBp6DschznLU+5qrjGIdAWV9FUZmMSk/mLqkvcVJYM2u69MiiqPuuZkW/1hqUEsSx5xypqhJjNc45wjCqk80BYRB6y0edM3Oz0imHVAFSWk9ko0Kskej6JqDqDuuZhRRSEDcSDnqbDEd7nBGWJG7y5BOX6HRXCGRQhyVu4RqLI6HULG7b2d2m39urk73Un+lqno6jVm6uYLWrqauKNJ1QlSVFnnP9+stEUcN3HjcCZKCxzpAX0NsvCFWbtZWI/d0S50oC6atzpJQUU0tZ+KHP1oK2jqWlZZKkyXAwYjodc+fuTabZEOu+w6H4WUzwrcprWatF8fkdz8MQRTGVqRBCEih/eXzNWoeV5TXOnr5IFMQUxZQoVghhGeUHNKIGT574bsbjlCIvmUyH5FnGoDfi/LmLrK6sMpUlDj+uSNRVCdYJVOBQYUhRZqR5H4QjCCKiKMIaqNyMSEbWpU6y5qg3NQV1SZxEtDtLNdlNPp+hHIYhgQpRUkEYEiBpJN4dtZp6yILnPkRYVGBxQYi1iiytr0Og6tpDj+VJJUlaTcZ3hty68xKtTps4Oc1b3/p2rJVUlUA7Pa9cRx7m5GZirKUsCzY3b3P37s3aWil05QiUw6lD5ZrXrSxA+wKotLdcRZGRphNu3XqBU6fO8653XiFJFFJVWKepcsdkZDh1coOV1TVuhPs+Wa4gUBKpBFnmKHOLcAHOgNGOleVVWu02w+GQ0XjAdDJgMu1jvtOVq9cboYKjyvW66nNfVe7vOAZRzNrJFuPhiKIo6fd7tDstukttPvC+D3H+7GXCULF3sMXdzds4LGVVcHfnGqFq0G6scun8W1jqriJljEQiViTdTodWq00cxYwnUyaTibcUKvB3cavJiymNZsLK2lleePkbVNWYlW5Zc9MLhPKt6R4GniWrNbPRRXmWs7+vPduTEJRF4eM3UbG/VzIaDuguxUjlqKoJUdgmjpbIs6xG40pfEBwpz6uowAkfrxkrUM75oQ3Cu8vLnTXe+bbv5cnLbyedDKFSDIeZTwQHqq4wFHXCXMxjJISjyEu2Nu/y1Wf+iBdf+jqD4T4/+pG/wJkzF2g2Yo9+LoByM7IdIWYW3Fe7lGXGaLzHsy/8ETs7W6yvbHDi1Ene8Z6n+dI3TpJN2sSxwtqMwbTPzvYewyijuZRiTMU0dSSExDKEusTs1Nk2ZR5SphEqrBCq5OTJEwxG++zu3yJuaVbaMVx/7VX2cLXzD5B/9I/+EUIIfuZnfma+Lc9zPvaxj7G2tka73ebHf/zH2dnZed3HzvKKLCuO/MvzB/87vu+r/yuP/SvIc99WENRkM7PFoaQiiiKajTZx1EDrktGoz9b2LW7fvc7drRuMxn2m6YgsS2tSGY0xGpyt+S78seIkIo5CX7VR49Mz+F3rFOd8VXteFKRpRqW9a+fjnaB2CX1tn63dQVfTACDqcUxlSVXqGpL3ubeyKEinU0ajPsPhAcPxPmk2wpgSW09NmfF42IWaQiEXE77+jwCkUERhzHJ3jY0T52g22oRBNO9qdrMp6SxUkdQzx3BQlRVpOqU/OGA8HZDlE5IkIUmSeQVKDVvMUxCHynbUVQTHNB0xnBwwzSY4DJ1uG6VCrFHEcYswSnz8Jnyc22oLGk1fR2mtwBpVI8MR3aWQZlOhAoF1JdaVRIkiCMFQ1EDbw63hb9lyffGLX+Sf//N/zrve9a4j29+o4XdZlh2pEH+jZdEKzrpyrXVkQcZkmqJkwNnTFwhjD0E/9+xVtu/uY9/heOX6Czz73JcJG5I4iTl/7ilOb1zkyUtvp9c7YL93l7wcoWREI1xhMhmBs7Q7Hawz+HBHo41FoHCUVG6XtJLs9wX7e/sY48jzlCgMabWbCOdJacIwrCkBPHeGc46Nk6fRWtPr71NVGmcNzpl5jDaboPL1b3yVvByQtHNOnXiC82cESjSRMkQQ1P/8MHUnLHHiEUnP2qs8ddy8YVJgSo0wltNnTnu0E4VzkrIQSOXbYGxdSe+EmFvZ/t4BZVqwvLzCyVMnaWURpS7JixzrTJ0GEHW7S10Vf6xO1DlHs9Hh9MZFVtfW2ett8wdf/DSNdsKfLX4MS0oYF2xsXGAynTKZ5Lzlu57kzOnTbG4bRuMht10fpxXFNOHUiS7NhmR1TZOnBcPhiO5yA+NSlAqI4oITay0GvQnp9E0ENCaTCX/5L/9lfv3Xf51/+A//4Xz7tzL87kFijT3ivb1hHuF9xBeD+g7cRpKAVeAklbbEDUkcR3MXsDfcJc1HICzTNCPLcwRbYCNWu+v1CB7fARyogHY7IUlCwlAyGg2pSk2z1aAotJ9NHCiMsYwnE09njabQvn9IBh5gsNYSx5IwCEiSiKKAovQjWK0zTNJpzZw7G9Xqrd0MOMBZhLCcPHmSrAjZOnie7b1NykJy/szTtNsrBLVlVHUPGQvgg4AaOBG+x6veVhUlVVnQChOEUlgUAt/B7Gsj61+uzi4LfEV+ksS0Oy3W11a4cbei1z9gd2+LqjTkqebcufOcOHnySN3uTLFkPevMWUMQBnQ6yyx1V+i0uzhRkeUT9vf2ffdxOuagt4PWFY2GJQg86dCwVzCalB4oEqouiLZU2jIaFEgS1tfWCAJBpTOGo4KqKihrTjX5kK1Q35JyfexjH+PP/tk/y0c+8pEjyvWtDL970GTJ+YSPB8kbqG0zaDeKIjqdNo2Goiw0vf0R7W6DRjNBBRLjSnZ7t5nmQ4II+vtTsrxia3PKdJzTiiPWT5wkSRKsLQmCBisrLVqNhCAI2NrcxiFZXllmMJyQFyWB8gQ2vcEQ7SYYl5JXGY2kRZAAylIZSzsSNJuKTqfBdALjibcu2mp6/V7dZi/R1ndRB4HPP2nrkMKgMDzxxBOkRZ+Xbn2JXn/CzZu3WV46Tbe7ShiFvppD1grkYDa3R8hZUa/wBC2AcI48yymyKc1WgyAIENJX3atA+HIqC4cFhq4GTiTtThupLIKM4ospdzdvc3v9Ffa297haXOMHfujPcOLkSQ6LEmtgQ8h6OIOjMBVRGBKvNFhdPcnKyjpB5FuV7ty+zcHBHsPRAaNsRBxJlroBUmSUxYTNO2OmaYpqQCNWJFGINppKG0ajKUvNE1w8+xST6jpZMWB7exfw/XBO+CT+w8jrVq7f/M3f5Mtf/jJf/OIX73ntWxl+96DJklEU+gqE13uC34rUH5KmU8qyIC80RjvKwsJBSVZMeMt3dYkSyTgdoF1J3GxA3WT5XW9/B+1mmywvGI3HlJWm0Vii1Vqm2WyRJBFhoDh3/gRaG6oKmo0IWVchaClJ4ohJ5siyjKosCURINh0TigQVBTQbvonTWUcYKdZPLDGeKPKsYDzy7qEzM4sj5oQ3wjnCUBEGii99+YuM0z2k8qNktfVkpc4KyqLEWoUjwOjDKSxKQZSE8wpxD1bU7GnSV5OMJnsERUTcWkNqgSzBWj/dRUiJqPNbxs7qDGE8HvPCiy8ShS0uXXwLV648STPpEMkmJ04uEwRQGTwzlzikx57RqEkR1m0rjnarw1J3hWbSZG//Or/13/4Z/cktWt0m6SRAl450Ythyd9kPdxmPUxyw3E1oJg2SuEW3s0YgY0zRYDgYc3vzZZwaY2xBoHxrjhD4jPND3tlfl3Ldvn2bv/k3/ya/+7u/S5Ikr+etD5QHTZb0AfzRmOuhFe1b1EitNWVZkuWlp0AziixzzBopEYYsTzHaF8RKIRCBYn1tDYEkKwrCzDdVrq6uEUW+DChQPmfX6SRUlWE6KXE2RAlFWZQYG9BsJOSlqruVZ7WEHiYPlC97CsOgZsTyhaeBAhVAGMi68NgX9vrpJvj8lQSlQAaCnd0thuMdko5GyoQkbjAjF/XupEAZO2/D96CGv6CenNRhXeXLk5ygLDPSfIgNIiLXIGquYIzv/xIqmiuEmxXgWubaVWnNaDRGoGgkbYJAEcUBrbhBFKn5z3h88KS3oIb+oEeSJHQ6rblyNZImeTHm5etfRsiCuBGTTyVYX4g8TVMExtdoKlm3uHhr2GwkxFGXpHuOPHuZSXoDFfvE/awlKAgDjPEA1MPI61KuZ555ht3dXd773vfOtxlj+P3f/31+5Vd+hd/5nd953cPvHjRZstGIv21t/uB/tCzLPdORDBDMRvh45Gs86VOWU/q9PqAQIiCOE8IwRuuS6TRld3+flaUW3W6bs6dOoIRjOBwQR8s0GgFOW8JI0F7veOJOC9NJSlElLJ1UvHzDMZzuQUPSajc5fXqDVrJEI5BEsUApx3g8ZTDscXfrFs5opBA8deVtGC3Z3Z2QxLKeQOJLr5I4pLIjCj2k1FMm6ZSd3i5PXnkH73r7h2i1Otg6fhECtNFIoRBK4qxHTX0xscG5ip2dGzgHcbTEs8//Aa9c+yof+N4Pc+LkOU4kF8imOdNJSqu9ggqk51bEx30ymg0zlyRxwvqJdV68/g2u3XqRrc3rLLVXuHj2bURJi5XVUzhx2Ls2k6LQbG3d5pf/73+f7//+H+Yn/uJP8e53fg8bJy/wzW9+mc2dq9zd/ApnL62x3Omi0xIpJK12xHgyJS8KLj/VRBvD/t6YoeuBGFFWI86cusQP/fD/iIxSrm9+njAJcQ4mk5LVlXXOn7/Izu4uo9Gb0Ob/Iz/yI3zjG984su2nfuqneOtb38rP/uzPcv78+Tds+N0iK+23Q2ZTIKmLXn3a0idpK63Jsgyjte/5kSFhoFBBQBAoyiojK6ZMpiPaLYW1EVkxQClHFIRUVYNKBwtNjnWrvvGt+ZUuOOjt0e/3GA1HVNpgtOWgt4tYFrSW2zinsXbmkjg8kGx8dXvo20o63aTmq5dYY+rKcQk6QBOQF750xzlJlhYcHOwTySWwkm63W59fTd0mJLNadGv8WFopJEZ7Yh0ROpRUBCqirCz9/oC97S+w3F1nfeXUHFKflzCJmUvnGA76jEdj9Cx+E5K8yGkkum6jD33B8OzbWneYNHLewzjo7XH9+lW+9JX/jdXl8wgsF85doSj73LwDEl9SljQFru7XM7aqc4oao/2AwVkifjLJGI6G9IfXmaT7FFVFEMcEKmR9dZmkkVCUFWWp/Wilh5DXpVydTmc+XHwmrVaLtbW1+fY3avhdWeT3uIWvRx66hHdhR18KVCNSNWKm6yEIo9HYt21kOXEsCMPEtzAEIWk2ZDwZ0h/us77eANngYHgbbackSURWRASBqJFIKIuCoqgoSk1VaYajPs8+/3Xu3r3F5t27FKai0Wxx9eo3eepyxcbqCawp0dqXHqlQETdCqtK7jTKwRKHiVGPJxzhS+uENNUWcrBKcKBmPJgwHY5ZXmvR6A76efhX9pOLUiYrTG2f995a2pleT83yFMbZGEkOs9Y2XoQjoNFdZW71AlUtu7W3yO7/zW/zwD/5Z/oc/9xMIgrlizejklJJYU3H31g0GowHTaYYUAc2kSVbkhFGDU6fO0W53630B62pmYQFSoGq6uek05Stf/xx3dr7K//Ej/xNnTj3Je975vWiT8sxXfxdJQKhCuss5Warp7edom2PQ7O16JDNQtibqgX4vxdodvvnC73Bzc5PxpKSRhCTJEhcuvJXRZMj23l36ozHT6Zs4E/nV5A0bfhdGfyzlejU5HpLNeojywidV46RBkoSsr6ySlxlFmfsyGSnqNg8PTSdJQhQHGFKWVyQrqxssLbVpNiOSpiNuGOKm780qS00zETUC54cixJFn89W2IFSSVqvF6vo6SbNFq9ViZXWFZrNRj3W1GG2oSs+4lBc5gfLpg+GoT7OhWVk6OUvaIQiohCbLc/rDA/b7dxlnPSo7JY6WCCOBVBVxA5KmAuGHNvju27o6X/t4w9c4OoQSrKycoixyhuMhB/1ddvbusD/aRKmI7/3gD3Dp4hP+mrpZNzN1TOdBDW0Mt+/eotI5UUOxsXGWKG5w7dY3EKrEBmOEqnxKwNrZHHaP6NeDIdrtJf7c/+kvsr3/LJu7X+Fzn/9facbrrHbPYs2UD3//e4AG1giyaUmeSaz2AFkoCwZVNc+fSSWIlWBlLSRuWG7deZn9vRF5lqOCKUi4dv0aeVEwmU7IUk/98DDyx1auT3/600eev1HD7xYBjTcFMVwsPpxxUBQeyBDSk7csLy8xngis80xAvqexXrzCo3ZRFFCWI1qtkPX1ZaRMPCNT6FChQYUVjso3VdauGs5XhQspCYOIRhLTiGNazSZF1WF5eZVWq02SJDXse8hvUZY5ZZFRFBnEAVIEjMcDBIK11ZPM6oSckggjMEYzmY7ZP9ilKCcYV9TTVxxSOcJIEITeVXVu1px4ODBCzUc8etQujltYA3mxR5pPmaQjbFbRaS/ztrd8iLW1kwB1S02tGYfFGZ63fdQHYUg6SywvrRIGCXe2n0dITVGNKLWvTsHJWSFLHbf56pE4bvDud76f4MUhW3tf4MbN58AkPHX5vTQ7JRcvnWJvRzAeGaxOcDZA1QT0Fot1eQ0ASd9hHQiabYVSlv5gj2la4qxGyAKHpDcYoKt6RFOl54SxryWPbG2hFH6Sx7dNnKcQM8ZSlTlxFNJqtSjLnCyTVGVBJQVVpWm3Q9bWQ+JIo4Sh2ShZW29y5YkT6ErU1RUjysowThtEJIQoyiIlDBTNJCaOPBgipWJtZYXv/74Pc/WVF/jmS89jnSHLpxz09mjGLbK1jDhKEM5y9+519nu73Ny6gSNFiIrl9gobJy7S7Zz0PIZB4KeVGI2QhuFwwO2btynyFF3mbG/usn5yjVMrSyA0pUkZjAaEQUKkGp55VoFS4ZyGwCOegoP9TcqyIGwktDrLrK6e4tLlKyx11zi9cYVOp0sQiJpv0V9XGQiCui7SGEtnKfYpjyxnfe0kZ07FHAxfYjAa8t8+/RkGB5a97QnvePu7aTQaGO0LiEH52TEi5NTJS+z3z7O+uoES+1iX0V3fJC+mXL++zXAQUpURpzfeiSRCl4qt3a/TG91guZvgcJ5Rq24WVcKCdeiqoNu1tNuKMq3QacK5U0/WdZIVL998jswP7HpNeWSVqygqlHy4O8SryUNBIs7fGY3xXbDGGrSuKMuCSntimKIoQPhFI6UlSQTddlw3HGYEAaRZitVeuSaTEVpbGo0MJ1KcjAkjBTLyRb3KQ+R+SIJBBcaXROmKJGwQKOUJb3SFsQZjKoT1Le+VrpiMR5Smj3MFgRAsddeYM+G7mhPE+umUcRTR6XRZWV4lUIp8XFCWBdZWaFv6YwtvrSptQDrfMFlXw4uarto6x97+FlmWIYjo9/pMJmP6/R6CgLOn61ht5srV5+L/OPIsJc8y1lbXGU0G9Ic9inIKQqNNBQ6iKGE47HPr1jWeevKtJHFS5+yoJ3b6SY9llfn6TSTalBhTkGYHFGVFVVqiMCRUCdYYjC3rgeEV1vrRSA6HqTQCiRSy5vn3XI5hKAljxbAUWG0pysLHjdTu5EMyiz2yytXvDY+yz97n0T3y0C/df8fZsG1deXTwoH9Amk7J84w097mtKIxRytLqCM6fX6XZaJBnikk65uVXXiGQCTjBcNin01kmijs0w5gksiw1EqKoRRiuEAaCQFrSQpOXEwbT2wzG24wGPZbOXiZJmmhdoo3GOk1RpHXxbwMH9AYHTKabaDul2Ygoq9OeAHTGc1HOJqdoNk6eIIkDgtiys73Fl7/wNdLOiLxIagvbIYkjrJV+qr3y7fxhFBwS6AhvtZ+7+mUO9ntUacwo3WSS73D95ouc2jjP5UtvJ2k0YbHJEa/k1ln29vbI85S3Pf0Obt25xsvXn6fUY4JQstfbIQqbvPW73sH25hZfunuLD37gv6PV6MwHtUvheTxMVbC9e43eYJc81wyGY/J8hLEZQdAgUEuc2jhFHLV55ZVt0jRlPBlSVEOMrWi1mlhtGI8zz50fKPb3plhrSBrQbEesrDXJpiXTccXd7Zt1ztBSVAVSvkkVGt8u0cazwX67RODrGQUC66CqTF0LWPhJ9/UExiiKcNaSpRMqPcbhaHUT+qM+N65vcfLkGo1GgnUabXPycoAzoXcnJwm2UZGE6xSmorICoRIsFfu9XYbDPul0ymQ69p3ASmCdqXk2JVpbbty6xub2HdJp5gcKON9dm+ZTdvZus7p8gnZryTcJ5lPubl0jz321/IWzl2k3unzjS89iTUma97GuxFNhexrsOPG0bVKoOTGMVDVxjJCcP/cEnfYa6bAivb7DYDAgr6a+eVGXNX/j7IouFCg6yWQyZDTuI+iwvbvDzTuvEMe+0uLunR3WVk+x3F1lPOxT5GNmwdq8j8s5hqMBBwfb/N5nfouDwU0O+vueMs5FJHGTSsNgOGBpuUMSCDrdEFzEaBAgXYAjIJ8oHBYZWayBMpMEMsRJibUV07HxDZhphNWKqsh8Mj6Yzat+uDX1yCrXPKM/kyOW+LXN8usCQWYxt/MTQ5zzFGVpNvUchMYSSl+QGvro33MpVFOsk8RJm0prtrcPaLcbRJEftGBMSVmOsTJGK5ikOUJIljoV2vqWlEYcYF3JcNRnMhmRZxnpdAI44iT2ylWfnzaGnd1tDnoHlEXhW0ucqQcuZPQGuzSbbdrtZZwzlGXG/sE2VWUwTvDkE08ShQlhEGBdRV6Msa6Ceiyqn0XlOSOElN7q4FhsTtg4dY5Wq8swGXHjbsA0TRlN97w1sAvVJYulFbWy5XnKZDxCCstBb5+dvU1mlHH7+wMa8QrNRos4iYhiOXdV/SE8yjoZj9jd2+KrX/9DymqIY4LDEYQhYZhQ6YLpdILWKcjY14nmAViFRIFQZJn05KiJw2moCoEMfG+dthVZapmOK4RtYnWAKXOcEh4DmA8vfG15ZJVrabk7dwvfcLTwAQf0PU2aqvQoWbebkKY5WVp4erIgIFSyhuUVw+EBRTFibz9he7tHmUsqo6lswWQ6RRtNoxmxsrRKkITs7w2ZjA24LcpqjNEp3fYKeZEynYzI85SqytncvE0UJ5w6c4ZpmpLlBfu7ffIsZ6m7jDEl07RP3DRYV3jqsHzEaLqF1qf9OFblq73jOKE33GTvYJc49mQ5q6ciKpEzyUbzmLKsJijVJopbOKeYsUjN6AV83WXJ+XNPYE3FZDxgr3+bnf27tNKI9fUNpKgbO4XFVNYPzKuHQFjjaLeWKKuCm7dfZGdvkyAUZHlBVRna7WWUirh9+ybOWdbW16i0YTJNKcuURtIgihNu3vk61248x8H+FtrmSKXZONWl1YqxOkA6aDU7ZFnEwb4gneQUVUlrGcosoiwcxdSXsgkFEoNUlSdGRWClRJeKqoh8jGsdlbEkNcuyNmNwf0J5rjdKZmNv3hgRr/JsJrULgsMFgjBQJElCVWpyUcwToYFiPszgcK5XRpEbhAgxxlGWlW+RR9XztzTWVlRVjhABaZZRVd6tFNJQFDlllaErH2MZ4y2G1ppK++kqk+mEPM9oNhvkZYM4kYggxMyaLU1JWaUYW83PyzlHFHmizryuIHFOEzUEunJUZcV0OmE8GZGmY5QMaDXbc0h+Rl0NzKF5z+5rieKQOEloNluIcIVud9lPpKxTG6Zm8DV1LaFDkCQJrWanZm0KabfaFEWF1gWBBGM1k9TTrCVJw6cU6s+ttOflHo53GU/3iGKJK0FbjRAKqUKckxgj0ZWkKAyI6pAF2dYuq/VVMU4Y33KiPBPUrHfMGF90jA0IVIwTEoRv75nZ0Ie92z/CyiXftCTy/UUgZIALFHEsieOAleUuVaWZTFNfFe4ccewIQ1CBIo4TgkCwvzuhzB3NeJkis1ibsreXsbIccO5cSFmlyOwAZzKEFkwnEyo7xJg+02KHoijIsgFpPibLcsJAIZUfoVoUBePxhP3eHlVV8tRTV1Bxye5AEJsQY0HrnMpMSbM+RTmh0jmTyZiiLFlaWiXavY02Ob3eDghD3HKkQ8N0WnDz1jUmo4JYrHD69CVWV0/MR/nMeBE9MYwvvfraNz6NUorLF96FCgTd5Q4nG2usr58iiZu+isP4Vv5Ka7QpCMOIuNFgeXmNZrNFlo+JGyFWTEm/8TUO+n1CJUhzSW90k434PM3GiTqt4N3DNJ1QVQWbu1fpT25w6akz7O/vsr01xjiBsQHGBGSZZn+3wokxrXaOM4IszxkMezjtXXwrPJeJqUAJgwgA4adolqVDupAwaLHSPYFAMMmHGKHJyimlLmsmrteWR1i51Le1cBfwfOzOEEX+R83zAl1VOGdoJDGtVkxnKUIqw2QypN2BOApRgSAMPJFLFCriKKTbkTSbDUAymfQZ06cR+xYPEYDOSvJiWv+wju7SEu12RdJIUVIQRQFJHBOGAQKIkwghHQeDffrDA4pyWrehGypT1NMQp0zTIeNJH60rrDXzARGe0MXgbEVau5p5oUmzlDgasbO3Q7O5jHN+MouUhx2K1jqCICSOY2+p8ym3br/Ifu8uad6n1TlDFPmpi57bUKF1RZ5nTKZD2p0uzVYbGQEYcAopIpK4RaPRopE0KIqcooTJtMfGifMkcZfJZOznVVe+89fV8WVVafIiRUhDuxv5OkijCIMlf/2TCWU1wUwhIKQoNLoyOG1wxiKDCiEdQSgRUuGs8lTgFoxWIEEJjZA5s9nQxliKqvR8/g+5nh5h5QpeXbmOtX1/K3J8ELbW3qUKQ++SZplHCnGOZiOm027Q7oQU5YTpdEyWRYD1hJo1FVwcBSSJpNtt0miEOCcYT3rkxZTV5S5BkCClQ5uCNJ96GmcVsrS8TKeb02iOEDjiOKSRJISBH9QWxRHUQMBockBRTEB4ctFKl7VypUyzIeNxH2PierCDL4AWQtTVBaVXrqygyD0QkmZj9vb3WFs9XedxPKWanbmE1v8eQvjuhSybMhq8xEFvkzQfINQ5ggUKt5lyFUU2pwGfQfrWBnW1fUAU+rG3jUaTNB1SlJpJ2gcESdxhMhmT5zlS2PkxrHFoY8lynx/rdCJPgmokgVoiihxJU5LrMaYqiFWDqgRdOdAWjEGGup7SEuJpDVTNpuUwJkDiIKhA5swqVozzcaSx9jCf+BryyCrX6traQ41tfSNlOFSk6QRrfdyjjR84vbSywhNPbNBuxxhGVBqQhtFo7EfVlAVSJJzYWKLdUYSRh56rquLO7SHGFFgqdDWgKEKWOjts725y0LtD0ohpNVtcvLDMmbMnabaXGA3G4BSra2tYLLc3b9JqJZ7ezCkwCqOld1FMRZaVOFNQnJgynvTohTsk8TpKKhqNpm88VTAcD/zsMVK0y9GmwuCwQoCyOOEtQwg1HbeHKS0+JpFC8ba3fh/bOzf5wz/8r2TZFKyjyh1FapimE89QKyTGlhiTk2Z9GnlCluYMx/vk+dRPdDEVt+7coqpKmknMKIix2rC/NySKWpw5ewFhgppjUZCmYybpiBOrF7HG8Y2vf4lmC9bWY0xVV8o0Y5LGEq3OOW5tVvSHBWlaYrVEmBBn/WwxKTxvpCTCoXBC1aOMnJ/rZxyVqzC2BCS6sljqxk/58KxOj6xyKRX+MZXr9eXIHNQNiaG/29cdsFEcE0YB3aUmzYaiP/R8gEopjzBZTVFkJElIqx0SxaKeV2WwpiJLM++a4SeMBCpnPBmSZlOyPPeQfN08GCch62GMwgfWYRRgqorBtE8QrJJEkUcCpe8n09pRFJos1QSqZDqdMk0npMkEJTsQRgRyxjnhME5jXOVbVerAvKo0ZVXNST89D6In6JyTsi7kG5O4Qxy1cNbhiWsCnBEYbcmyCWEQEoVx3QNmMbZE64pKVwwGPSbTIaEKqaqCyWTs6xeVIqjnOFe6AuoBEjLypykMlS7IspFnaUpahGGMUrquiaxAVB5oQhG6yMPuVviuag04dchC5VRdCOytsxPMB6B78p263ciZhbrG149aP7LKVZkKtzA4bl5G84Yc3d3vDzIIaLSa3jevi3k73S6dpQ7r6x1wOTdv91GRotVdRjnnoftqSKerOHmqi9YFVVkwGuyT55X/l1mqyhE3FEUxQsqXsGTIQDAcDsmyglZrhxMn1jl5Yp1GbClLS5rnjCZTdrcHmKqk2+5ycq2DpU17ssagP2HQSxkOcsb9FF1NEaYLNLA2otFoEcQtj15mJXFToWzIoLDIwDNX7R8ckKaap6+830/JLAsm6RgBbJw465PJ1nckW2fYPzhgNE5ZWtqgqBxlIQhEhKkqNneuUZanwQm08bObHQat/QDB557/Brt7mzz15GUGw12GgwFCWISTNBsttAnQbkJW9jkY3OHJc+9BEtDr75DmQwbjLYxLCcOAD7zvB9jbf4XNnW8SKEsSW6TS5FlFby+lzCTCJAhjcDZA2AStM7QxHgW0llxbnKxwyg+8EwLCUMzZwPwMNYFS/gYoFVSVn2/9MPLIKleapt8aV/wfQ1x9+5oxxYahJAwdoTKMpz2syX1cJixC+QmNgVJImaC1YzTp04iTOv7w7ShCeRfIWuMnVgYRWVYgpEZIi5QhQeD3z7Oc3Z0tnKswVpDlnkdx/cQJnHOk2ZSKCBlYWq2oHpXK3NKMR5bRaMRoPGR9xWHRDMb7TNIReVkQNHwcNh4WWCsIg5Cs8nRnSdTAWUe/v4/WJVJK1lZOEtSc7bOZyy9fe5bRqAfMKuglYSwJI1/Yap2v2M2yCWk2wVlLWeWMxgeUVU5VFdzZvEmWTTl54jR5nlJWBXmZIkyFM47BcJ/bd17h1MplpFDc3bpOWvRwomT34DaVLljqrjBJO0Dk3biqYjwakU5TBv19qtIgRYSMLM4orFQYJ/0QeAfOgHYWpzynwYwX37cVWaTytNpCQHc5wBqwRtQjhB5uPT2yyjWd3su4+yB5o5LMs2DclysIokgRhZZQFfQHPbTO0abAoDDO0oqDuhu5RaUtB/09Tp88SxK3iOI2MtAksqKqUozVNFsdpJRkeYlSGqWcV8KoRRS1mEz77O3u0+7ESBkyzTTt5glOrp9l++4u03RKaWNEoOm0E8JIIYTDmBJjLaNRxWA4pLPUA+mHog96W4zGfbI8o9EW6Kqkf5ASNxI6nSbTaYY1hkbSxlrH7u4W2lQEQcD5s1d8DqnuTjCm4hvP/iF5PuXKpSe90jlJlCiihsSJWfe4YDIdMZkOMdaQ5ROs20LrAms1126+SLPR4sK5K+zv7zGaDMmrHkIX6MKx39tEEPDUpXcjULxy43mSBiQtuLv9MtqUvPfdf4bmaAklkjrxX84LifcOtgijjh+iEABWYnSAsQrrJBaDs9REPBrQKBUhhUQpUMoiA40KLErC6npAVTjyKeQZPCxc+MgqV9LwFed/PMV5wLsfVKFRGd+rU7sISEez1WR1vcndzduk6ZSqEgjjMNZn9QMlWVldRZuMQg846A0IVAYy9K5HOSFMFN0wYWmpi9aWdDokqxOb3aU202nGs89/nSgUxJH0AIn0pTq67JNNFCvddZI4RpDiMIRRSrMFnW5UT7OHRiOk3e7QanbZ2rqDc5ZJtsdgtIc2E/YPRmhT1snfmGZboauIZpKwvt71LfvFbP6zV0Q/MALKtGA8GbJ78CLalFxyGzgKX+kgLWEUsnHiIpKY/qDH3e2rDMd7lKZAihilGiSNNmfPXWK16hCHEd32CvsH+35sU6UpSsN0YghPtFnunGQ07gEOFfpBETiFqSSj8ZQvPvNpnMtYXumQpxW6shz0b3mLJT39QhBJQlX3gRlotEJAMBhUOCdIkg7jNGWc+tpBJ+phhs6gsNjQopSj1VZUgWe8ynLPdvww8sgqVxgG86HZ35qI+zx6dalKja4qfHUCdQYfokZQ815otA58/4+sA2TnYerKCIq8wlYZShqiqI11FmM1CIkK/ERIhM8bVaVvwa8aPgWQFSmdVpNANSnrFocwyqlEQMmI1aUTRHGMlP7WKWVFGAqiOCAIPYOTCkKUClEyIMtSjNGkmaeLs67C6AptNFEcESchjSTEtKj7y3z6wTnPk2GMptKlB2dUTRk96qFNirUVpZlQ6illNSUvJhRVGylDdFmRZ1OGkz0G4x3SPCUMGsTxEivtFnGc0OysI4Vv2TdGk5e5r+gwYLUgjpp02svkRQo4kiQhjkLCMESKGGsEu3ubNJsB3U6EDhzWaHI9RRuBxJPtCFzNj+gpAqLYN0ROp/7u2elG5FWJqyd4WuvmVklIgTYGKSt/nHoSaBD4At6HkUdWueI6b/J6xT34wWu+L0t79PsDlAgIQ3DGsLqW4GiTNBtU2rC3n7NxssP582uU+YSyyBlPc4bjEXv7B8RRRRQmLK9Y34gXxUxTP560KLMataqnl5SSg70cpRRJo0GoWjSTFjduHlAUvmkvUDmhstzZCeikLd725DKVtvTylCjyieogiNFaYEyDPHek05yVdhelLKmLESJABpJWu4WQjqQV0O00WF1uY9YkcdSmqEasdztcefIJvvbVr7C70+Ps6UtUcYyQhms3r7K5fZOLl86Tl2Nu732drTsH7O32GUyvc+LEGdrtFXRVUeQpO73r9IbbXH3xKmc2rvC2t3yA3YNNQtXgfd/9XobjA66+9DV2D+4yng69EhPQajY5f/Yyb/2ud3Hz1gsoFfC2p99LqGIEAS+/fJ0qV4yGPXK0pxG0kiAIabQalLkkqwLKwlDplLhREKgGynZotDRBpAn6GhVI1k4FjKchpoxB+p42DARhiBSS0XAAOCbjGCVDAhWB1Aj1HV6hMZnUgIZ72JTdH0+cc5Rl6adyiMqzpgeCLJ+yv7/PZJSjK8HpU6usrbdZXm7SO5hirWNltUlZ5ZSZI1AWF/ipklo7ylKTTkryQlPkhjCIaTZaIEqs01htESIiSTpY66nTnKMebqc8d4bI0NWUsjQMRmMchWelqip0VdFutai0o6okuqrIspSN1dAPblArFGZMVvYBgzEzC+xrHeOgTSOOiOKIvMy4ffsGB719JtMU54wfWK7imimpImnEaJsy3JuQZRm6HkAn5R7PXf0yy0trrCytUlWOIrdUpSPPS0ajEdIlyEiihIfCy6ogCAOaSYPBaA9HhVJ4pitXUFU5xiiydEIucpyFOE5ot5aJgnZdRB1R6RxjNIKAOAqIlhuUusRREYTa5wetoNIVlc0pKo3QgkF/SlEYP2K2LqP0oLSvpLG2xDlLkTmUcmgFZSHQ1Xd4s+T+/v6bOojhflLW4zgdJUhJnDQYjwdM0j7FFJqNBu/9wAXa7ZBWK2A6PQAEZy+soKuS5zJBs0WNNFnfE9ZPveUqNM4ENFuKpW4TKacYm2ONr+7odjpk2YjdYd+zOyURUsR1O8gEoyOKbMrm9iZhFJHEq+R5Tp6lrK2uUZaW/YMxRZExmYxIGgntVotV1caIlKzoM54OKCtNnucoWRGqguZai0YjpNVpcrA/5MUXv854nKKkZ5kNVEgjbhOoCIGg2YzIcsne9ogsK7AWJuMp00nG3Z1t3vvu7+P06XOUpSJLJbiELNXs7u6y1F0hjgKEE2A9QNJuthBOcmfzFayr6HQTimpCmvcoqik42N27iza+OzyOG6wun2R7e50wDknCBvlkk7KcEsUBjVaDbmeVycS7w3FsgRBnICtyimLMNCsxGqZjTVUlBGFCEIQ4BLp0CCf9EHiXY40jL918jHCaCYry4dblI6tcnkPj26tcSnkasCAUNBI/ZFoIB8IStARKwY3r12k3Y9rthMmowloY9A4o8pxW0kQXgonVBGGOAKJAkiFr1yUGFzAa5BhnaTQUUgVEocDYIdPpiIP9MWsnuoSJZ5taWkpYX29y7swJolhy9aXbpOMxw8nU19Z1YDLZI8ssWWppJC2yqOTFV75Js5GwutpGVyXdzgqokjQz9IcFYdBmeblNEiuqKuMzn/1dpmPDwb7nuO90lmk2miRxjNEV3dYaJ9cu8s2Xvkm/3yMOBUq0aCYdWp0EGQQ4EdJqLFOlCiUkgRJUNTiz1F1jbWWNRtzk2W8+yzQfkOcT0mxImk8IQs8JOOin3Lh5wxdtW9+AeefuC54zsNK8860fZmVlHVvFLK+e5cqVt3LnzlXG0z0Kc5v19VM8eeWdXL/1LAe9bfZ3C6AijCCbOsqigRIOoRym9FX8KnAoFWEtVDpDhT7WDkM/A7qsPL2c1UVdNf8dXv40y6O8WXK/yyPqNosgCAgCSaDUfFqHHwoH6WSCM553oqoZtibjKWVREsiAUju0tZSFRkmBEgKJrKdphAjhaxaD2BJGsgZuBFp7jviysJ4COwwIg4BGI2RpKWJtPSaKJO4lKLUfHyRVRJJI+oOUqnJYq2pK7oKD3g5pI0KqFQwOKYM6h+MrEJQSRGHouS3yjJs3t8hTRTqJOLF+ph60HiKloNAlYRjTbHSZTFLSdEoUKcIgAiLa7SZBGBKELZqNTj3uyNcSGmOQQnhCnihCSsn+zh6l8Q2hxuZoO61HDkFVWgaDPls7dzmxsoGuKnb3b5MXBWVleNfbPkwUJFijaMQrnFq/Qp5OCYKA/vSARqNFu7PsC52VI00NoEkclAWUeYQICgQWaxQIX3UvkIh6rIqQjiDwKKNAUdXFDNp4hqyHpNB4dJVrmmVz0v03Wu7BEes/ptKe2jlIMFqQFxXZNCPPCi5cucDScouL51oU1ZS0GNE7mJKlmv3rjlG/YjItUFGICgOqIqASnj8iiJssNwKSRoOqKugPbtONEqI4odVawmjL9uY+cbTMxfMXOHOhSaud0GmtUFYDdva3KKqUKApZP7GMrix56qgqR1UaotAg25J2t0mepfSHA1orp9Gi4OWb+1SVv+sPJwcEoeOJJ09ijOTudkY+6aMrTVGUTAaKg+2YD3/wh/ju9343oJlMevQHfUbjEeNpn17/gKLMWT+1Ds4X4RZZRCi7PP2Wd3Ni+Qzry2f52tXPMZ7khGGIw5BmPUaju0ipOL/xToKwCXKZINGoUc7+QRMlJSvLS2ht2Nrc5m2XP0wYSYz07SZaG8oyJZsWyEDQ6XQ4e+YcnW6DybTH1Zcdg9EWv/1ff5NKV2itkUpgrSbLh+B84XRa5P4aTgNP36AURVYgJLQ6DZZXDCvrmt6+pshBNFuUVYXNM4LQYqyDg9deZ69bue7evcvP/uzP8lu/9VukacqTTz7JJz/5Sd7//vcDHhj4hV/4BX7913+dwWDAhz/8YX7t136Np5566nV9TqvZ9BMT3wB5WLaeLE0pCw+TS2FJp9ozJ7WblKUhzyqarSbFIGc0LBiPSvJco0uJE5ak6dA1nCxl5CvtTVGfA0SRQkiJUn7IgjGGMp/x4cH6WpMzZ9Yo9ZjJeEIzSbC2wLmK0TBHiApL6kfpECNw8+ZNbS2VLojjgGYjqhsENRI/pEFXlR/iIHwFitaGqmDOzJskTWhH6OWEpaUlltpdnPU1fXk5Yjje4WCwh5QWpQSVtkhhkAgPrzdaNOMOcRShAkNZZRSlbwsRQuNcRV6m4CArpoQ2QCpDnpVkWQUo4qjBifUNtM7BaXb2tgjCWQWKIAhC+oM9bBXQbXeJo8TTMUynTCdjqsr3v00mA6yRmHrkkXV+OEQgNVJVns0KgTGe1UpIP9ooCATdbkTSKJGywhqL0b6zHwEqrFtq3wy3sN/v8+EPf5gf+qEf4rd+67c4ceIEL730EisrK/N9/vE//sf803/6T/lX/+pfcfnyZf7e3/t7fPSjH+W55557XZNRTp85/bqh+IdVoge9d3dnl2G/TzotyDOD1Zp3vusyb336PL//2atMJwWNDz3B5qbj+ssjxiNPIrq0FBE3HY2OYO+uoMgkSdT1OZy8RFcGKS3xSe8GJq0QhCXLctJJijMSo0NOn13le77vPP/5P36Gfn+IClOi0BAGhr3tlMnY0Rts0Wo32Th1itWOohF6AtKsKOkNRjxx6QqnNza4dvMlnIWN1XM4O6HIK9+yYTXDYeqn1lcSJRxRFLJ28jyYFufOdDh1coN2o40xFUU5Ic33ub39LHe3btBoCFQYMRxNiYKQKIzYWF+i216lEbZQymHFkDTbZ5Lug0wR0pd7lVVGVWq2dzdrzgvJ1naf/nCMs4r20jJPPvE0RZ6RZ1P+8Jn/hqPgwpU1X/USNnnl2nMIG/HUxe+h3ewyGIx55ZWr9AabpPm+V7I8pygUuqprHJ3FWEmzVRDEFYEJMFqija9yV1gaSUKzGXD2XII2lko78syQTgHphxCGicNYC/pNUK5f+qVf4vz583zyk5+cb7t8+fL8sXOOX/7lX+bv/t2/y5//838egH/9r/81Gxsb/If/8B/4iZ/4iYf+rPFo9G1vliyLEikV6ydXSWLF6qoPdnd27rK8YlGBYPPuXabTKe12g6KwVKWhMg7hLMJqVtY6KNGi3Y3JMhgPJUhfj7i7O0QF0Gx0MNpbjCCqhxW4mDu398j/2xStK7rdJnG0RFVljEcFTmSEicZpS5HlDMe7pBOfKB30cyrtiAJBno/Z7wkmkzFxlNDtLAEh1oaM8z7GWtKp50lXyhLICAjY3x1y4cwpvvt9/x1L3SXSNEOblMHwgDs37tDbO2AyHlPZCUVZMRhqlrtdmnHIyZPrrK5scOr0Ks9d/Spf+frnGU736HQSVOhb+y2Ooiwo8pJGXBABKoyoB1/inOHgYI/PfObTrK0u0+k00XgaBIuruT4yKl1iypIbN54jjhOeeOqtnD7XprncYmu7QiUG1YwotR+YsHWrQpegK4kJA4xQmMqPo221JFFsiGPD2jrEicG6PnmRM5lkCOFvAGlegLTU05RAvAnK9Z/+03/iox/9KH/xL/5Ffu/3fo+zZ8/y1//6X+ev/bW/BsD169fZ3t4+MllyaWmJD37wg3z+85+/r3I9aLJklh4dxPDgr/PwhZSvJrMCWCEES90OrXbEyZMhWvcZDA483XHg6PV6FLkliiLCIPdt487hjAVr6XQCmrHvyjXak04iLciKySQnjgNa7ZjSSJzTBIEHbnSlODgYsr+3w8lTS7TaLZRqkGeayQiiRkkQaKSQWGv8wPDKYrWjyj1ZZhAGFEWGc949CoOIRpygtURXiqCv0AbKEkQMYYRPahvJaJgSXUx4+rveSpH590+zPsNBn/7+gHSSUhYlufFDJNKpppVonINmM6bVSogbkq2dW3z28/8bl588R2epRZw0CIMYbQxlVXoFKwuQgtDKel4zOCzT6YjNO9d54spFhNrAkiOlR+pwGoHDWD8BsjfdJs0GSGVoLQkIJb1RiQsMhJLS+nYcccf41hIjMVpiVYCpPHVB0hQkCSSJo7vsCAJLVkzIi4rptARiZKCoTIFwNW9icMim8VryupTr2rVr/Nqv/Rqf+MQn+Pmf/3m++MUv8jf+xt8giiJ+8id/cj49cmNj48j7vpXJkk4I3EO5eeINARUF1FCsQSpHHEk6nTajYUaah0SBxg8lV0wnmt2dDCEccSyImwVVIcmnDSauIFdD4mYTa6G72qaqPJff6QuXMKZkd/9ajd4FZOm0Jkb5/7f35rGW5Vd97+c37eEM996aurvK7slmMDZTHgFjk0CkWIqcOBIRUpDCHyQoOIBRcEQI8AeQOAEr/0SWUJQIidhIEFlECYmUP8IjzfBEHoRnhBMMoe12jNt2V9d8h3POHn7Den+sfW93dVdVV3VXVVeTu6Rbwznn7rPPPnv9hrW+Q2FrUbO1tWRnZ4HzgatXLtGtE6sDRzNsUdeWr/2/AqvVmue+dJETyx3qqmbTJcY4stms2Rz0rEtmsTjJrGq4cvU5trZOcPrJ0/TDw6y6fWwb2dqas7O95A/+4HPs7W44deIh+mHDpQsXCb4h58z/94nfowoVTz75Nmbbc7b2T/JHn/5/iWNkMRd2dy9y6eIFzl/+AqGuqcM2ly5dIjQV45DY390oB8tVVFVD340T2/d/E0JNezBnb+8a4zCwtTPHWcPBcsl6c8AXvtRRtxVGDF989hLbOzO2t+fMWgjzBW86+/XkPPCr//fH6cofkblGVWd2r3V88dm9SevR4O0MGoCsyk+bzP6mUDeZNz/esbWtPLzNasX+fubq1Z4YhTEZEOXglWTJIuRexUnLSx35bhJ3lFylFP78n//z/MzP/AwAf+7P/Tk+9alP8a//9b/mu7/7u+/sbp7iZs6Sh+q3rzXuJO+id4hkvBNCBfN5oO88BsvQZ3IWZpVqGo5DomnBe3WuxwgpgXMZYzKGrP5cTcJ5EDEsloZhQNEExmOMU20HIPiAcxXOVlhXqRFFmbQEvaGpPXVj9b0opCjkrKh0HyqM8SCeyi/wtiXKgHGGWHpS6ShSMZs3YCM9URm1TlnDBktKma7r2d3fxRpLTIlh7KmqwHI5YzW0bGJDFWaKdEgrclGe2mpzQEgDtDVQqOtALoKMmXFISDCTBZEiIUpJpGToB5WiLqIajtZa2rbFWJUjqIv6dOU0aYGgZu7GidLzRVHtXbcm5gOK1Ax9YRwmYw1jqK3DOzCNkEdDEiZdkYwPisRI0TAOmWEQ4mhJuVCywVmwFkJlIRXSOJEr70VynT17lre//e3XPfZVX/VV/Pt//+8BjtwjL1y4wNmzZ49ec+HCBb7+67/+hse8mbPkYjm7JeXkNcuC3uBp5wxxdDRtYr4oPPxIS4oNq/3A85evYi3sLLYm8ZWB+TIQahWYTKXQDz2hmmE9NG3G2pFsdtVJw1nm2/uwGpFsMD5gTcPQZay1nNw6g7OWvjcsypzgAztLR9NuCD5x6rQjBOH8xQvs7Y6s1hmIDL1nvlgwm8146Mwpnnj0CU6dOsVv/e6v0Q37ZNuz319kky6zc2rJIjk+99wVVZTte07u7FDbOdeurrly5Sp/+qU/5druJYaxZ2frBFsnluycqjjoDZvecPrEWaxzPHvhS1i7pJkvaBrLYrHkLY9/NRcufB6hVxWsrMI43hua1lGHGQY3qWkJ49irBIKM9MOAoeLEiR1iOiCVDXEwKtZTe5zLiOlIRlWbzn/pMg+dOc1bnvgy/viz/5t+f81qt2bstUDTd8paqFtLXStyZtw4xt6wvx5x1uL9CVb7hat9AaO2taW0UBKmJOpGPcXqNrDeZOJunEijr3jzAXeYXN/yLd/C008/fd1jn/70p3n88ccBLW488sgjPPXUU0fJtL+/z3//7/+d7//+77+Tt2J1sHvb0mq3/qy3vyFLo5p2lxIm84UeMYlQa2k9pcSF5/c4OBgxJjFGtUidtTU724GtWct6rdoUs7n2zA5WhW4USs5s1rukqByupm6pmxZrvUJshp7aeHwdsCFhnDCOEJPqbxyse6wVSmqpw4yHH3KMfSIOhY1bkXPBmwW7+3uIVSOLOBb6TiFMzlquXbmGmMz21haVrzFSs1gY6ko4feZh5rMlB93zXLp6kWFIPPnYl9PUDV96/kucv3iei1fO8+wXn2WIGxazk8TBkqJwaucxzpw+y9e+7Z08t3OGWTvjj/7oj9msV7TtHGt1FaIzc6BtvOo45p7G1IRsdCmaDP3YTTqPQjaZDPRjJhVLP1oeOv0Q3rSsL11j/6Aw283UYYetGVzbu0hKQs4BH9TcYhwHQJWrXBipbcT7REmeaxcsgqGIpR82KiEOVLVjvmgYR3Wh7AYhRo6cMlWL45XjjpLrH/yDf8C73/1ufuZnfoa/+Tf/Jr/3e7/Hz/3cz/FzP/dzgL75Bz/4Qf7ZP/tnfPmXf/lRKf7cuXN8+7d/+528Fev1/m02kW9d0LhlIeSl/5UKRyBn7UH1Y0eWhA1GBT+TcOnSgW6wjQJzbQLva9rZjHmzw59+/nnWm0jdJGLMpKRO8kMv5Cv7WOtpmhlVVdE0NU1bM46JKxd3cVWtfsY2AoVhSMQ4UMrIaq30C/IZ6lCznM25dPEq635N6XUmCLZnb3+PKJFxjKSY6TvwzuOd5cKlPawvvO2hM0CgpEA7M8zmjhM7byKnxLq7xLX9y4wD7OycxNnChUuf5+KVC1y8cpHzF57DWsObH3+IVRqIQ+LE1jnOnnkLX/mWr2XWzIDCnzz9acY0MLMqAqocsYCzNU1da/8vRbCBXAyWmpITY+wxkvSjmkwpotCnBMNoefO5JXVouTpeYbXJ7O4XglswbysuXTlPSoVcvPYUTWHVR8BSYiA0PaEa8CETB8v+ZcE3FlvBar9QJNK2hdl8xmJZcflKpB8y65Ugog4uRQy3See6s+T6xm/8Rn7lV36FH//xH+dDH/oQTz75JB/5yEf4ru/6rqPX/KN/9I9Yr9e8//3vZ3d3l7/wF/4C/+W//Jc76nEB5OiQe4TQuFmkMVNyYrPyBG84/6Vr7O3ts7d3gLVQ145NCioB4A1WHFYsbROQlLh6+TI5Biyei5euYK0l+JrgI9llBIMxnpIr1mt1h1wsZmqvyoZhzJiDwv7+VQyZqnKUnIlxVKEcH5i1QrGJYtbMF5ZQtYylUHLm2t7zrIdr+MozxhUpjRzsr3nkoXOcPLHNwXBZCaDLGauDDVf3rjBGrdSuugNytsQB2vYEZ06e5JEzJ0lpzbX9gS7uc9Bd46GzDQjEfiT2hTxY2qZmuWiYzxq8gxh7nnjLw5x6qGYcAfHk5BgkY6Rnb/cyVW3YOtFw7fw+u3sHhLDGFIckxVs65whzFfeJ+2pQZ63w3PPPMm8XPPllTyhj2G5Yr4SuG+g2hVKgbeGRNwXa1vGZP1QlLhEV4fF14M2PhQm1fxWhRqRiZ7vVFYtZMwxw9TLs7WfimDGmnhwyZbKRvUfYwve97328733vu+nzxhg+9KEP8aEPfehOD319CPDSjeNdy7UbH6iqLc4YYhS6TWJ10DGOKk7C5JFsjFdjAnOoga6fOYvKT1s7wzvH2K9Ui8EEStZejrUBcJPscqJIIY7quVwkk4t69A5DBMlINippPUZydqTgqGvBo2Is2ISQSFl/L/aFmCN2sFinctJpsu+BTNMqr8s6S8p5ktUeEAPOzchZCy4Pn1hwauc0dXjB15hJsKeq1as4j2rYLWIZ+o7Vao/nL36RK9cuslrvE4Ii1GHUZu5QoKSJlDhQiqUUT4yJYUiUPGDx2NJgJmnxatKwsE7FYYwVxrEjOIcPinTBKDJlmIwpsAlXZZwVnAMf9NxDpQlRisU4wUrB+BF1r3RKgMyTVqMx5GJVM6MYtZBF9RxVvOYNzkQ+NM6+n/H4k6c5c2bJ03/4HFe7DkzHzomWs4+c4tnPXWXoE8G3OCc4L+wfbEhDZBg8RpShOp9tkXND1++TYmQcO3JU18p2vgXGUXIC8VCEvStRJc8MkwFCgxq1FigNqV+z2hsgbPD1wHyxRd0KzQwuX97l6pWOfgTJFrLDeDAOZvOAc5a2XTLmgcv7z3PmoW3qxlOKSllfvrwiJdXLOLG9hZREGle85c1P8uSbvwIrmRxHSrbUoWHRztnbqI9VNgmxKpDzmc/8Mc8++wx/8Ae/S6IjyoZ2Psdaj7FlwvYNICMGaOfK2dq9usvQFyRXDDEr47dYjMlqfN6IyoY3AecT1qv+ey4de3tXmS8C821HNx6wv1qx2WyomkizjOxesexegXquPckT2zV71wz7Vy373UAuCSuFqomE2rDpDLkILqiVbhVmrLuBLAnJh9r5Fu87nI23dT89sMnVzhLOvXyGue3J6za76C+O5VJYLq0q4iZhGMw0M4mq6noLJMX2Wd30GitaFo+FocvUVcR5q2ZtThEeloAUR05q3jDGSFV5QhWoWwumEADJgWGTOHliixAcaWqeDkNFaC2+shQiOQdKVoZxCAqexVms8SQZyaKl7lJ0Btt0hZxHfJ1pome+aEjxRdi5Iuzu7hG8Z7FsKGakG/e5stux7lZ03cB6NbDaHxiiIWVDGmHoM+OgOEIxI6n0GF8wTmdkax0law8vpaQ+wwYazGSe4JEyqEOkgDOWUDnGGMlpoIjDHJFlDdZ46qol+Ip+2KdgGbOhroWdnYr9Pf2u4lCIRSZdQsgJKLA+gH4jlGKQ4ojJ4lyFd4EqjGQL6VBwVYSSHBSofIV1Spgck/ZCbyce2OSaL0b8i5Pr6J+vDo5hrjvGjWOxKCzmqv4jIoyDJSXF54SgIqA5jVgTsLZiax4wVohDx9AX1gcJd7KnrgTrBRWGE0V8lpq+g5QK/RBx1lPXgdmsxjjIONb7ifU6sfPkNotFzf7BCiQyDDWzrYpQO4SRXCw5VThXU1UZI8p9q0KYnCozKRnttxVDTELXC7ie2SzgnZI7S5Ep4YVrV3fZObHk1OlTFOmVIDpm+r5nsx5Y7Xcc7PVE0L3ZCEOfGPvMGAUxhjEbgngqF4hjOlo+5ZSPtOu1Wd9M7pUVIh05Dmr+ECyh9oxJAcNZKgxK+8FUmlxhifeWLu7RjwWzKjx0+iTzWcWli5aYYBwyJVlNLmsxApsDiL0OhASDiCcNgew94j11ldSud+X1+kYhJwvZUDWVSuzVmbIW0r3ac92vEDFHGnPXx70rcly6uE+3ipw+U5OzI+YOIbN/0FG1LTZYVvsHFCP6BRSwGLWs6YSDgwHMruoVToKSUrwa6JWeXLS7b41XNEjMZBGCtczbhjx2DJuB/b2rjKPHuIive7ZPghjdk3WrjBWL2ZpjiCCGftXjPbSNVYqHKWw6vXSVN0BCJHFwkBi6iKSGlA0nT825cnnFOCbEJKoqcGLnNLNli6/huYt/ShxHYswYl2gbh4wWSiaKOt6LJKwH6y0xOZwUhMR6JSCWre2KUFlm88B6pTft0Cu3DFtAtJpZVzXeq+LxYrlgtqhwZkCyINljCQRfce3aLnVl+fK3zlkfrLh65Rp7+z3OG2bbG9YbhYvVviHYQCkoBK3oTFSyI6UNUgyUQBwEkRFfqZOL85a2FWaLzPLkSE6JNERKNqQEFos3FTC+4v30wCZXTtwdPdCbHONGD2/WIyUJ87ZFsJQ+kQv0gyFULdYZ1ddiKkBkxcWV5MkZ1ZdPBTvdNIj2RUopiqGTAuhe8hDBr0UBOZIzcw76oaeIpWrVjNwHiFmdNlOcfpLR0Tk7YtRPVAoc7g2YSH3WGIw9FLgUihg2qwHjwTtFhYP24VSm24JRDN/Beo8YR93oS9RjAIdoW2vAO0dVBUKtyzwf1CElpTxJXqtykg8TOgMU42cNxum3oE12rRAeklWV5TFOb3UoTGoYx4izhsVihzgahMQ4brAZrC/YyQ7IWj95dk3fhclT1dBM3wuqxCWFnDLWyySSI/gg1E2hkEkxUxKUYij5EJ1xe8ihBza5Ngf5tsmSd0vieuwKwQ/YM7qp7roeEYuIY74Y1WVRas0biaxXI1LA5DmSLG01Y1adxLuaq1euTcxVTRCM0MxaPQY6w1RVRYyRUgzOqKZeM/es1gNyINS1VrtCYyiThal6UGUuX9xjfdDTd4lNF/HR4upELuroWFUNzlvq1jFfOOZLSwiOcRj53DNfVKqF1yZwKZbNKrI62Gd/9Rwm13gz5/zzV4ixBxPp1gNjHxk63UNJMSwWC+qq5dE3naadVVRNxWbYZ93vcrB3QIyFIjUGi3eBpvFEB3HURHfFaIIGlcsWhJSzAnmLITSa6FKszjAlU0SLHNs7DSk37O439F1H6QvGVjhj2VlaTaRS6IeifcsSGbuKNHhCG7ChgNuoNawVXMgqpzfYaZay7F8rDL0g0+AZk5AKb/xl4WxW3bCgcbdAujeOiWoe1XLHmoqUlQAZBx3ZtCJfpvK6mZRbleyYs5LwnIemtYwR+j6DcRiryw5rLGbyHlMMX1TTa6cSAWMsIE6p5FMZ3KCo+1x0hiEY6rqm35SpPDzpIYqQixYyQnBYzOTprPsH75XakUukJCBaxsGQ1f5R8YV9h5c9LKrvXkrEhxcunMih5zHkrGZx69W0f6OQS8YatVKyFKRkfV0sOqM4dZB0VhnAOlurhLRqRaqftEgG7GSeoAWRIsJDDy9ZLDzPn1eBHGPUlAKTEZmuv9VClBoWWpBCyUnL/6Izu2BIORGCm7zgDAZDsZ6SLWNfGDoYB0twir+0xiDFkNMbXP1p50SD9/a2ChHmtl50o1dc/0iMkRiLUruNpapnaqWadMS2k9RxFvVpUsd7Mwl86t5LK4uF5bbOMMOgVUNdCjpVg3UBp40b4qja6lYqhlQYkvrvqga9AketsZQ86Po/Raw1zBcLukleWZer05KrKMPWoKZ5KQ0Mo1pNGeuV/l4G4ohKsY1qd1pVCiLerDeU8RKGis2mm2a4WrUmHNp/EyhYhrEwSOLq5TV1a1lEi6u0nD2b1SRfKJIYY2azSaqh4Q05D5hDjfygPaVD69ScmBxSoiaLqKRbygZjM2ff9Bht4/jMnzxNqKGdO5wLII44LYutUSM79WrXJXLJmVyS4gJtAyLEmAmVJ1QV3umSXWxLSYnNOrJZa1W0Wjqc8WArutyT3ujJNZvZCbV8/8JYFeIfp1GqaYxeyKGQsqGyjp0TczZdz/5BhxiHwTKfO7qN0K0zY9wnFMt8OQNr2NvV/ZT1jvlsgbMeIzoil6Qjqu6XptJ4NBTJFD851FeW2dwhRunpoQqc2Kk5daZl79qGIqLIfG8I3lMFVZu1JMQUkAjFUbJlf/eAlBJNPcdbCNZwbZPIuTBf6g0+jEIceoxkZu0S66wi8qsKKZHadwxDZnc/kbPThrIkxihcvtzhgsVXDm8CInDt8nraLzlyVm9h51UIaBg7qsZTN471Rl1tvNfZzTghDlb3tTqJYTDE0eKttplzFsYhIylQkrC/p8Iz3gt5bJAS2No2mnjJszoQuo1Qoqof7+xUzNoFTTPnYHVAHDP9ZtTVgNW9mfO6fAwhMK8gm3I4mr9iPLDJZZzKWx3Fa7EQus3fNXaanaYkc071FXQ5ZABL3TjGeIjaULxZCI7R6Yiey6BYOTfTGcXorGWNo/JKJRFhMltT8dDpVsECDndUNDBGiwPqDw1ewAdHO3M0rdJPDoU7rdXlkA9a8cpx0OXVhHYQgThGtdDxYdIONCCJkgVntQCSU5ncNNEk9E7dVARELHWbERLWChkzIcRFCZxDj/MOHz3Lme4h+z5ijMMH9yLnTqWm5BwJocJ5C5uIMahcdNBWxthrYolMylzoKsFZg3UOkUSMBVMcORvGXvtciC6DDZaq0sGtKjUpZnJSvKUxarQRgse5aqKdCMNQMEaTT8RMe8GMsVYFRp1MtJ9Xjgc2ua5ePsD52yRL3qWw1mrVzhaMNcSUMcZThwUl64UuJWBtpq50ZDTYqYRsaWpd2vR94cqlkaG3pGQUqeCC7r2m5ZUtGWsH6kathOq6MGOJkxPEpGYLOE26XATjBoLNLOZzqhqGdI0xX1UeU56WqCXRNC2zeSD2A0UMySiVPiehnbWK1D+IFGOxHOrDC8ao82KMhW6lFqXVGYVrWQybvmMYex1wnFOkR4Q4FKz3WGfJG6c8ra4wr+rJMabSJSXuqBjSnHC654m6x3QZUpyqj7UDOykWl0QWA9ZNFBHLlStXaWeeE2fOsDrY49rVS+oQmR0lTvv0glqxijDGNaEyNE1F01py9gyDJnmMwjj0IMJmExX0m3W1pP5cFlM8/UZl2dbrga6H4fYAGg9ucqWspdf7GcFP+yKns4ciB9TJUSFPhb7XL8EZq3anAmNU4RLjtI+VIsQ+k6J+yVKY5KCVyRqcgTDNTALGgg8FmwsmiRorICRJlAIpiZIqJZOiMPSJ1aojpQFjRy2+OEtVWUJQcmV2ioX0xjGOqidR1UH9imOvg4WxhGAxVmeInCEXlWtL0RCjUutNMfS9upB4r7ObaoAwJa66beoecUJeiCFnjpSWSgFrvG4iqTCANSpTUEwmJwH7gv9VsRNQlsN2AhgKw9BjbGC+WFDEKGfMydQiUTfM2SywXinKRmcZlRWX4tWVE8hiGHqrrZCSJuKpm9A3KsgqOAQtFFFkcpzk6O9Xigc2uXI6BI3eIl5TDf7lSgjeBqwPeFurRvjQI6IM4aoZgMTefoczFqdiCmQRVmvlbtmghLuYoNuPesO5aV9ihXGMGGNpZwbvBSOOKFoECaGQNokYR5qlBeuJXU9Oqk8+9JGcM5RI3wtdFxnGNcZ1WFcRgmO2dNStxQdDGiaBS+eJG20bLLfmGCP0myvTTOBo546UlK/kxsm1fkiMQ2GzGYje0lvYdAPjOOK9anj0fU9M2vsZBsELhBqaJtA2M8be6GxkzQTWLYRQ6cxdWowRrMsM46BFlqiFvTiUI59mKYBRwqI1BUxW95YSWGzNiUkHg6rWiqoxWa1vz8xIcSCnSKgMkjMH+z3IDGu9AnMj9L3Cs4qMeKeCrSqxpvt9kUIphnHUhrEuvQVv3+DJVTe61Lp1vETe8zYnOnP9H0fh0JGtaSr1Ok55+pISs6DyWmOcZJZjph+j0g8kHLnBm0nRP+dJmdVp9YsC3o/4YLEeKu/wrqKPFZAJwUOsyM5pcaMkxjFRGUtlAjkFUjR0uWBMRPYSfa8wp6ZWfJ2xceJOGQ7WAzkXqhYQwQfP6kBnonk7Q1D5AufsVOzX/ljfCe1syXzeKNo/697IGkvla4bYqYnDmPDBUdcWHwo+WNp5IFSOKsDQjUd9PsxEl28C1jhSV7SkTybFQs6AOKQoE7zgJycfe4RCFzI5F2LW169WG4wUlssFy+VUWS0j81mmnWUWizCpHG+IRZPJWB3wDH4iPhYwuj4SDhve8qLqs36HoZ5kEaydWgZvcGzhbFa9YHhtrvvrRWFu8RxHCXTz5w7/0j/LaJBs1W2+CK5nMkPTPdhhgaVMnJ44JhWbdG6in4gK+DMhADDTiKo3iLpJqqS0D44qeDIOweKcwn9y5cGM2jDNRcvRRiteJUMsovyvKKQyLf1acP7QJTEDTsVKU8Z4Xdp47xiHiWlb1ZSiyzZrjHplWUAKMRaWc08VatJgpr5WnkZ1R+nzpGlRsJWlbrTwZB20M3/0+YREKWq1o7QRoaoc1njGdZlUs5QqkwsoFUdVmg6XY8YU1cxAe1wihZR1sBrHSF0ZmrZmvrB4J6R+pG2gqqFuHDkrgFoLLtpLw0Qw4ahAcv3NMy39DhlG0wRlvUpy61eb3/iUk7e//XHq+uWnJ9fNyLe5LpRbvfqFR88/u8+1Kx11I1hvqWZz9vZGDvZHxl4bylcvq8y2d5ZSahBLKcoB6zcF61WghsPmLp7lsmaxqHDVNTBCHCu8E7zLWKMIiXETmM+2efjUDnvrCwzjRjXenUWKI9QV1hXyaBlTYugHYnQghnmtpMp1twsPgdmyrNfa73K1anS4wxK3gSoYunVmfTAQszZ324UlF2EYE03rmM88+7ua5M4KaRx1oEkRYwqzZSB4bZg7X6hqx2K5UCm4g54iDuc8wQvOgw9Mg2XBuB7JhTEKMRZyUSKqd44qHN7EhmFUmFnJ6ai3WAo471TKrRKqKrO1VKmCWVMIrqJtGjbTnnS1GUljwVhH1ei5HOxFTTznAR2QVC/eKGKjCKkknXkp1M6RpsFTk/72brsHNrmGXr/YG4XcMEtuDiJ85RQ8fIWlCjW5JCQnJTQWXdoMg9L6FTGAwpEmzFsRFWPJygfUBYUxYEQtQL2hqrVsDzpal6yy0lJkKg9HKB1SdK/pXNCb0SgiJATde8TiyCmDKUe4u2EAlw0EQ5ywhyL2CPVejBZNmtZiDcRhIMasaA8xR3eLtYaq8kjJE89LjnCEQlKVJqNm7M7p7JyitjDU+UP7UuOYKdlNn8NjjSheMSvOT2ekFwoEgrYCnFNOnCaX4DJQzNRM1vcz00xrjVKDvJuS8RA5Mn2bxkRgmBr8h4aRZqoCJgSny0Orj5lpCWqdLhUxhjR996XY6Swn5M5twvIe2OR65tPP4m8gUPOacYQ3OMDhQ9uzR9henmLdfZ6UN/Rxw9DrDbteKeQphKlCVpiqZUWdOqJVmvio2dzOdMmay4gLhbpxmDwjl0w/jORgKN6QYmboM9euDMR0jZQLTz75GE3bEOoDctElWDPXNX9v1ELW+oSJurfb3zOE2rDcaRhHz2YDU3mNYbCT5oNw+kyNsYXPn7+iN5wYrA0YZyg5EirPfFHRdx39ZuTUqS1EYBwShY4ko8rdWQXJDhvD0AuLLZ1hh8HQdYX1ZsRkpYsE7xEKkjPdOFJK1iTCEARSLtiJKey9EIKAzWASBYPNkGLATGxqP/HqVKRTGcQ5wZAyB/uJqrJYEiWvgDWbjSVngxUdaHQfOZCLR2i1QBHAytR89wPWK0solkyOou9vC8Yl7BHo+pXr8Q9scq32XyBL3h1g7iuHlzUUQ3aJmAr7uxk3WekYUW/cqlYMYY5eIUdFkOJAHBaPq3Qk9WFqHjsLkhnHjrZx5FHYrApVsLR1RUkRZx2nz9RcvrJi7/KKvlNd9zR6vPc0jSFUGUOhkw5rR5pWuUkxGYpo30jEMQ6FwnhksGCmLrg1hnHs8Q7atmaYnC61hG2I0SpMyxSWiwXBNYoDzCDG4CuHGE9fFMxspOYQ95iiaHVxlRjHorPMUYHAKjYz6j6plExwSjZt25qcO21KO52NY4RUEkUmWQJnyDFPOyQto4sUNusVTTNjuVgiaSDGyO7ugLOR9UHBW/2c6u+se8JxFOJoyFmLJ6UoSdOInbCfBWPTJCtgFEmPTLhCwU5L/XyblbMHNrk263xj4O49jNr1OGMwTVaxy1VhPrfMZlpkwBR8cIClJKdkRIMCbcXpSD1pOzivopuhCiCFFAfcck7Kjr4r5IWFEihJlyZbOwv29nslIA6JEDwlOWxwtLXHVyNFIrDCuEhVl6nAYqalo0XwxKj7hZx1xiPqcs84Q45RCxpBlawGFHolIqQJ2Iso5aapZ6yHlS55BYxzWsOzaWpCtRgUOJyTTDJuiZRkWnoxLa+Yjp91z1YyRqCqvIKPh4GUBWMzoJypMWZSzsyXE2LY6ACg17hAUU8xpGY+C6wP1F5ovVaWwspmHjpTUdcVUkaVGneFNE7S2dlOy+asva2p8ITR2VGXj+4IpGzsNFAYQYz9MwB/Ovysr7aR/Cp+LWcYktBfGxnGyNApTCinogWBYljvu4kXpBCbqZqrUKIszGc1dWuJqSNUhuV2wE48qVOntunXiUtmA9GQOmH/slI/drbmzNqRk6cSpTjGwdIutmjnhvkWtG3AMDJurrK7N3Dl2gpjG9pZII56jOADxURySdShnWZVFSe1bqSudrDGsj44YBiyjuJ90rHZVHRZ5QC25oW6Fr7whYukqJ7N3lucrcixnvZmCqp2DjZrIWdoZgPtzLFzcsHBntLt+75XwCyR+SJgbWDY6IqgqubARg0WYpqcRJU5EJzH24qchb7rj6qvJY+IF+qmxdlEGjbEcU1KPW3rJp6bYxwVwR48UzXUIMZjS2AiEegg6ArWCQWtYI4DE9MgMXSGUgy4gna2DZjAy4STbhIPbHIpKuL+zlwq6TwwZqWuK69HsKNW/xCUnjFh3ayxiDXYSWEojYL3jqryYHtCZQhBsFictaouOzVTQYhxpCRFY49jUlXeRa24NrRn5rwaJnivvSHntBCQsw6gzqPwJ6vLqpwzuWQoqv8gE/bPTOcvZaLBFy3P51E37c6DNVog6bsRcFrJmwo0CIjVUrmZGnhKwtTiiRZWRnwI1Fl5WMYJEpmasWmS6dYlmIhhHMsk4gkpyqSWpRU7a/U6i+jelsO6y3RLiMAwjBzsrSYVq5HDgoUxqKz1VEixL9iTTIgLPYYPYP00M4lMPl2enDMpFdUmETMVsQyFqSdY3uDJ1czCTRV379oe7CUH2ttbsV4PtEu1mNFlStIKlEylWopqVoijamq8t1RNYnOQSJ2az7Xzmqp0WFewLtLWNcEZnjv/OSRV7GyfJaYNm81VrNW9y+UrFwit58zZGf0GpEREdGnctoYsB6Tcq+qS0WWZVuIsRgaMjaSS6TaFYSgEdGYpJlNZ8NYRByipsFll2nlgudOyu7chpcJiWyaoUuD8+aukBPPlErwhjrqxj6WoJSuWXGpyETIqRJNy4erlPTZrz8FBYDZvcN5j6pq+jyrhhsdYhzGqJ7J7dZd+GEkJENHigi/UtSFUhpwTKeqe1jrB2YKrHMbBegP9+oBLz11kAnLQtpU2k33m8uVRG+JzM2EcA7kUUhoYo4qUbm8ZDBPlx3iM8SyqivWqZ29/A6Lm6CmmaSXojmBdtxN3xOnIOfMTP/ETPPnkk7Rty1vf+lb+6T/9p0cYMKab8Cd/8ic5e/Ysbdvynve8h8985jN38jYAbDZy45+10N2tn831P6UYQjATHlD3VohBikzkO0PwioAoMhV9p3KyD5l2OdIPa/aurRi6oipEY1QsXoaDa46DXeg2ugEvZKo2UbcRR4LSkeIuxiRdqpQVKR0wjiv2dtfsXutxlWe5M+PRx06xc2JG26pyb13XBF8znzVsbakFqrHK5m3awGxeY13G2ESoAQPjoGgF7zzWCogKwyy35pw5cxJrM8ZGqkZ7d8roBUSR+jnBZqUkToMhhJoQam1AjzD2hZKyXibrKVk1LKqqxnlHynHaG04rFa/VP0HIacJoGLBOnWesM1gqLAEjyofjsBSPIY4yCQpZUrTEwZDTVJQpOiMezvzGJKzdUEpPjAOhKsznwqlThvnM4QjTLKp9DNWa1Bk2xnsAf/rn//yf86/+1b/iF37hF3jHO97BJz7xCf7O3/k7bG9v8/f//t8H7p6zZLcu3GfZQoyDEFSsUkRnKWWx6lLCWgjeKZymCIfdExB8yMwWI+v1mrQa2d7yqiFhIzko4nu1F5AEVB2ujrg6U88S1hjy6MipZ5Qe52fKypUDUjb0o2V/d8M4ZrbPzFg2DSdPLLl0Yc3B/qDimDiMqagqnXOvdgNFClVtaGaO2dxgrN5pVaWfZxjULUTLy3qjj+PIww+dYz7f4gtffBZMpqosQ8eEQAEwil9MQrcuVFXBOUuoGqrKqwrVZqTkQuVVS8MalZcr2dFU1eTSEimlTMtSj/eC8xkphZhhNsGmrCtHjAWDf8Ery6qKbkmKQ4yxIDgFLid1L0lRS//GMjm7MFX9MsZ25AJxNGyHwGxuOXnS0G+cirkaHUCNcZOPmCZvvk1nSSMvnnZeId73vvfx8MMP8/M///NHj33Hd3wHbdvyi7/4i4gI586d44d/+If5h//wHwKwt7fHww8/zMc+9rHbNr979NFHOXvqJPYeZNetVsuVt3hn6WOcVHAjYlTFNfhW5aldmRDjhhAqrLP4qpDHxLjpaRYLQh1oG4P3BV9lmjrgrOfK+QpjCovFhvlOpl1k1ZOfwLLXdoWr12BruUU7s5x+6IDZomG5tUUdKkqGz33+OYw1tG0FeQtKQxGt1F2+siblQWn8scZYq2TEGuoahnU6QrRv1rBeQdOoqExoR1IpDIPQLPQG3Wx0n2aNJUdFosznk6mCbdnbW3Gwv6GdV3jvqENNEb0J60b7bH3XK9LcOaoQVN7AqmXPetXTd7rvOnlSZ1YxHUxN5nlzkpINe7sHCFo5csZSV5Zzb64Y06g+yxNUrN8YSrTk6HQgoSDisdZS1w7jdV966bwBCsvtQftmzmIms4q6NuzvGq5dnVgZxuCqQBwzXRdVXCcL1w722NvbY2tr66b30x3dve9+97t56qmn+PSnPw3A//gf/4Pf/u3f5r3vfS/wys6SN4oPf/jDanA9/Tz66KN6YhMB8EY/5iU/t3rtK/3u9cfxOBOOtDGOkAHZ4ozHGa/M2Gk8SrkQYyaOoj/R4ayO3NrFd0gJlOwpxeN9g/cB69O0HwNcwbiMrSIC5OgRBqDD2JGSE0Ov1BNlGDucAeczdWOUONn4iS6fyCWS8wg2H0F5clZ72b5TAzhnFQGufTCZPLPK0dK36zrWmxVVbQiVVW6ZUV/nUBmcNxPKhKm4M4FfJ4jQIW3EwGSMUKZiyoSLTAo5qmpLqAxVZbBOz6UUpgRV1IuITIpO2lO0gHdmapFY6tofISakQEow9ArArZtDjKDiErWbflhu10KSqle5SUY8szoYGSfNRTtVEu3hzAfTAW8vX+5oWfhjP/Zj7O/v87a3vQ3nHDlnfvqnf/rIiOHVOEvezPxusaxeKGjcp6JhRcDhWPcbwFCFlpwrRDKzegdrYdPt4Z0heEvX52lZo32uqjK0zYy2aUhlraquw4zg5nhXs1gWiuyTzIqDvRmb/YZmG1zl2J5V+DJn4RbMzpzH1yo8eLDbceGLvZa/64ov/8q30i5gcWJgszIMG2H3CvS9wQKVr8HXpKgb724zMo5adh6GDc46tpdnoQxQ1iy3dJ/TJztV0QxxMITK8TXf/CZSHDn/hfMMnUKdZnM12Ys4Ku8YrKdyCkWKaUNVVczqGsyhP1c4hC9PaBPdY4XKcuJUxXwZJ8yiFjZirw4oRQpmq1N+1hK6taFfO5Zbc7a2HQ89wqRt7/j85xKbPk3SZ3r/L5aBdm7ox15bLBG8Uf7pYVWy8p6qClSV5/LlDeNQOAKDW8UwqkzeMAGwJ7jWvUiuX/7lX+aXfumX+Lf/9t/yjne8g09+8pN88IMf5Ny5c6/aWfJm5nc2KLv1XmfWi48uWYs23nvMhJUzR03WjPrzqpGdc17xbGXSyBCDNcLYZ0oZsU6dI62uQFBSZcS4TDsLVLWCVA82kRJhZ2fJollw9syS5/cvkqLj1IklY6VcL0TpIcO4D50DZ+m6kaHLXLmSWK+UcKgFAqFkrXjqEtIxX1iGjc7COatEGcZSzxxVbaCrVCTGJFJRkG+3GRmHxGbtKEU39Qd7EUPBisEHWG47qmbSSIyCsSO5RKra4oNjViqdjYqQYppmN4+I7lNTSpScSNEcJQdTXbYKKvc9W1qa2tHXHjGJrh95/nnllnnrwAqumsrurmCNUmycN9RNpYWOQVsrBqO6JVYLE87rrFTVujJI0ZCLI2dFhxRRomcuL7pj7gVZ8kd+5Ef4sR/7saO909d8zdfw+c9/ng9/+MN893d/96tylrxZWB+wr8m29c6TMucRKZFQVbgCMWlWiIjqSnDYj1GvKZGolS7nsGiTebOOyDozm83x3ipWrgimZLphIDSJ09sNWyc87QKufGrAjI7ZYoszJ7Y4vbPk0v8TWG8SJ95ymlIK/TBSoqeUwrq7TDcGNpsthrRiGDqee65jHBymLJToOCasabDOUbeO5aLizMMV/apl7IW9a6pvKMbRLBztzCLG4kLEhETKFjHC7rUNQyfs73lC0L7jwbUBg2XeGJq5sNjy4HSQSQOk0hPzQFs1BF9ThW36vrBZRWKM5JSRrIZ/mESREZFMGWsVshGZChaWtqmYLzwnHk7ETcuwbrhw4QL7qw2bP12znDec2F6AFUJbtNJYgdQqF2CdpZ1XGAr9QSInFerJMiCu6PLPCmLUdqiqYLOylMGRYtDEAyVlZkEoE33o9u6nO0quzWbzsiKDc05hNtxdZ8luf3V/XE5eNAiVnJFcMDSUIsTUH7FTU5yasBmVZDYZax0hOCQ7hjgydGuqqsV7T0z7tPOaNz26QKSnlA633qeqCvPZgrEf2awGSlSeVBwzFy5f4dKV5xGbqGvHhQt7R1WyftMzDImLlzdsLbd49NEt1rs9mw5OnppRhYrt7S0uXRzY30s8+ubHySXzpfPP0vc9F86PnDo9w7jClf+9q8gD63n+Sx3O6X4xlsSYB6zTZniZL5GYkZww3uNweOPIubC/Hll1BWcLs4XHuoLYgVA5lssl/SazyYXKFkq2BFtTbMY6bQ+YQ2TE4YyVFW84m2sDGisMYw9rT7OuSOOGMR8QqkxVVWyf8qQhcvnqNTbrTCmexaLRBM2Gg6sqMzfGQByFvlfYEwJJHB6VOVhvHHv7BqFSRri3iNGBxJoKgJR6lSM42mPeXtxRcv31v/7X+emf/mkee+wx3vGOd/AHf/AH/It/8S/4nu/5HkDpAHfLWbLkhJGXJNfLZuO7C+kt08bbTb2TmPKRaGWKh7LT2odJEyhWsYUclbF9qMGKitjUwomTjtU60nURTI9+Nerd2/WZnLSsnBP0fccwriaRTsN63R/ppw99Uh2LDsZKkRJxMIydoZl56jawtV1xcJDpNrDcbiglcXVvQt4PCUyFcejyTwylZLr1CBRSCWTJ5Ek+2+CmhrHBGodFfyrviWRi7CeL26yGBUaONON98Gq+EAVf6cDrnFLn7cTZEjOtlqcBS5W+tZHM1MOPo5Ith67ShnIejjQumqZiFTNdPxJH7Umqibshi2HsC2OCwmHT91DLQ21aS1HkSIqGYdCloLGCac1EMXmB6nIoMDqtpLldT8Y7Sq6f/dmf5Sd+4if4gR/4AS5evMi5c+f4e3/v7/GTP/mTR6+5W86Sy62bIzRuFbe9GLzBC41RWa2drVOkrF1+lRbzXL26ouTMchEYo9APqv+OmIkRrL6+VdPQzmrOPjLjoUcannjrNn/4h1/g0pWrWnYvlmc/ByIjZdLDkFp7LXv7iWvXNnqzGEs7twQnBGeJfYWl5qu+agtjMsPwJdIopKHm4t5I0yZKSjz/xYHLlzpi+kMWW55HH5/TdT3dumN/dxfvPd/0LY/y3BdWfPYzV5HJFG7sI8aJVgOdIzhHO49UtSHFGRSDKZaTD+9QRNiMB5h6HxNWpDjinGW5vUO3GVitNiCW4IVmvqvFDDEs2wZnA+s9dZDpO8swaGvASje1JCI2BKzzxKHXWT3WKr5TVaz2E9bAYt4ydIq4qJeq3Vi1mTQY+gGwWmIPswERw3xh2Ox7+s4y9oY4JtarDuccbePY20+krFqJuuz3pKhTVZmU9JyFqinKRN595VvsjpJruVzykY98hI985CM3v2fvkrOkavXdKrlunkavmGA3fYHORIeUO19BCAXvI3UzbYgnIVAm4qMx0LQ1ORqMiczahnbWMFtkvO9ZraDb9PS99kicMwyDnSSUPW2rlbmUO91n1FuUMZGTINERkyOLnSpZ0HXuSG5ARGns3gfA0m0iMSlbd+hUBWrsLWMHQ1cYejVTqKqBYYiEIPhaP3MpBmPVyKCdqb1RzpFcVHPQFrWoLaajSEEkIWUCs07nkiLE0RIHP5FGDWNURLu2GUCsluNzzpMuvFJlnHOYSUINqxW7CJMbjAr7GOuOaB+qX+hYLmekybEyDlrBFpu0vVKEsVPJgMOWhGidCudVbFV1CEc2vYE4qX8Zpd4om1xo53JksiFSKLe5YnpgsYU++BuSJe9+vJBph4YY46jWOFUl+CrhQ2G+JeTRknsVu7TGkCkYa9neWhLTBt/1bG8tmC/mbO08BzZy/kuZ3Ws93SqRc4v3Ae8qwtLQtJaqAWMzQ9wlVNucrE+T1lcZxkgZvSINBks3bCgUsrGqstQ6CgZfGeZVIBdh/6AnRjWwGLoaK579y3aCjiXGqMI3Vy5fw9rMbC74NmizORgtLIjh1KmaZuZZHwxICYTQUtkKi2U9XFT6SDQqpBON7s+KZXUg9BvLsKkpk9GdrA81OjwklVMbx0yMiTiOWtUUFecMwdK0jpR7UhqJo4qRxthjTIOlJgQt+3fdyGLpOPPQDs9f7Ok2ma6ziB0QP2CTgQz7VxutjFotppScJ8q/4dTpGut6jBlZdwvsoP0/jnRDlMC5c1LousL+XiEdudW8cjywyXXm1GmCv0m18A4LgeYG/7pRrDdr5RdFbUZuesEO2uQdNwbJYFPBuEA1jewikTHt4p1wYqfGVXtkDhjjgHMqB+a8nYwTPBSI45qqcmxtezabRIlgkmUcN4z9gIjHhUoF/43FN4atWU0umYsXDqgax4lTjdrbTCI21qhLImJAFIE/xsRmVTFOLGnnLWRhsx5p2opQzbT5myfC4yj0fUIkUtfCmAecrai9gzrjHeyv1qRYKKnCVx5HrbgxdHmcxoEcE3XzQp9SKfSWUNU4axjjBozaD7ng8dZz8sRiYkEU+rEgJtPMEiIG6zzBg/MJY7SNMGwyhgZvK5oQCMvCwe4+MSb69cisCvjaM1+oMKuqSiUE1QHpO+HSJS2OhGrGQ2ceJiXD5YsXwSaMiVivVCNjWkKA2bwQ80BKb/DkapuaEPz16XDz/9wyXvbKmzwQ08CYRnIvxFQYRzlaGqReJdW8TFQQ56YlZCHljhA8TRMwvse4jGCPFIuYRDvVFEAwKL2kqiyrA01kUxz9JrFZD7T1FsZqhdI6ZTVXtRrmDUOioAYMOR8ml0pw17WdAMcCZkRQgU/1EbO4yiIUtUQtBmNrVZma3FNyNAw9dCtVwM1mxHvwNqmeBMIwjAqOLQ7jKpxTtVsBSo5INkgpk3Kxm6gxWqCx1mEmH2XVolCERPCOpqk1uSQTSw9Z0Rva91ImMKpoqNIKU8Fk7A1VG/BeOLCK7EixQKX7pqAFP3L005JSURo5FVYrlV9oSsuJnQWlFK5amdAZqkNpnah9rFH6UGE8Qui8UjywybW7exn/splLrvvrBs/cIF75xYf/zRM6ZhgPGIeshYWixMhDAHyWjIyj6qs7SzCBnBI5Qo6GnZOF2RJOnz7Fpht4/vnLdJ2h7zOSDe284oknHgK7Ye9az8E1LVW3zZwyTnuD0lGkY3dXqNuKxbJBjCE0Fe/4uidZHYxcPL9PCB5roRRHFmHstYEb6syZR2Y4DzHtMa4jfUyc3FoAcLA3Mo6F/WuqaQHq+RxCzc52qyxnXxjKSFUX5lsDu1cH1quE5FaXebWWsnMyDJN5wWKREW8RP6ffjAgjIej+0nrPejVMlA0lnFZOJa67nPF2zfZ2w6NP7NA/O7C5tma+0Ntz7CMxOyQ5QlXwHrYWDb4WqPZJ0qh3cT1S1XDiZEsZtimxZUwXFRHiWrwXBMeQAilPuvDikCRcuXxxqvD2E5/ME8tIHAvr9agVU6eUE5VOeOV4YJOr7/sXdAuvi1cYNeSG/7yt3zUmIDiF6EieyHoT2/hIV0hHx0wheDP1/V6A3TgHVW2o6sAYEylDzmVCH6jKUdNWDGPPOGYmmB2SVSZNKfJrpChlPmR3ROkx1jBftMQRShLE2SM3DiUV5iNaeggO5wuxJLV8nQwbzKEsgCjCW8oEiHVarHE24FzCWjCTEYH1Qi5ZhUBtM7UgDvGE2mB1Vkcmg5twi1AoqhI1Xfdc1DTvUKbcMNF5klJMRPS8jTEvcslU1aUy0X7cZCSuZhmi1q9khEOSpTIbUnQUlKqvbza1UQyKphGmpvU0oKWEuIw15Qhrekg2zVkN8swR6fL24oFNrs1mdd+ZyFW10Kb4ERXCw9TrMNPNI0XFLFPJVBO369AONOepJFxrAvWDVv0UlqRuJtYZZm1DjCtl+saJcVvckXG4IBRJpMRU4ZJpxITFoqXf5EmldgLBoZvwnFVE0xohVA7rDaSs+4yilc1DcUul0ehnOUQcqLOLx7miTV5hklHT5W1MGR8OjeDy4VijCcKhER8YM1kklUnU9NBlpsgEQNZlopkGpTxV8oroakDVcJnuYzPBzHjhByZJNKX9yFH6viD7lo/EWdXh5TAvzBFHS6b96TQwiajC1A1uucNj6DvcftxnxtSfwbijPvaLXnyLceP+Dik3P4NDiYBX99sPWggvUgm4L3GcXLcZd7TEfOlTd/Kt3vJ1r/LWuNGv3fRQcov/3Z3TuZ14MBP0zuI4ue4ugurlcZdmqLt1mvf6495R3OgCHK6/Xgkdexsf5F7MVHdyvOPkeunVeo3fxuF3/lpgWNc/fgczyRs9/ox9uOPkelmYuzDbyMtee/3vvZYMfhU765fGbXEmzA3/ecu4yTndyam++LXmho++lqO/JO7x2vM4ue5V3OqLu4Mv9Ya3zh3cT2/UvcstG/+3u901N3n89t/1NcUbJ7ludHXuwTLCvOTvO4rDVtirOcLNuv531DC/RdxkmXnLgx9uf27z/W/8+Kv8ku74C7jJL7zi1u3erUXfOMl1RxWv1zNur9x+y3jJyvQOBLpueKyj49xguTq9wQ1/9YVHzdGf8rLnbvSed3i+N335rZfor+HAh0e/p/HGSa43ZLwGWswt42Y3zWvAW972+9zjqsOrnJZfc6Lc0fve3rsdJ9cN4vpLd5tX/SWwqzvdct24yngPbuSXHvJ23uIe1LRvtNSU6+bKu/WGr18J8ji5bhh3qR5/yyPdrzXt3btNX4i7sPS9xZEPUU8P5rL/9uP/nOS6rwPYDfY2d+NGea1Llwe3av3Av/+rif9zkus+QHVeS7HwhSM8QDfS9IHu7/nc4A3v8Qncq3H3/5zkelVxly77LZs2dxgvOaVXdaTbXHLd993KHa82b9EruNOK5W28zZ3GcXLds3ihjPyqE+CWcbuViFs8e6cn9uJa/I1CXijZv/y5Gx/uZc/fAX7sNYFUXsPv3m4cJ9et4ja+vZe95A6/8Tv/kl/biHz9b7/yu9+L2etuoyUemGX0S+I4uW4jXvHLu8EQfFtf+D2+K+5awe02D3LHiXjTmsuDmi53FsfJdadxR9+7ucG/buM4t3jubmDkb+sj3Aykd5/iZu943erxAefhPHA0/0OoT873v/mXsuoxqD2pHMlbq4FkwVAwk25dwejzBgS1ZVW/rsIwGoYhTxoZMqkvveCVNcZEjGr6ljJQCikX0uSmIS/6nUMKfEqGlNQ8IEal7edcsFblmkspSuWfSnyHApYp6zGk6GPGMH021c8o5dDAfFLnkYLNBSOFnFWiIMVydD7FFChgsl4PRN9Xr4GQsyFnM53P9BlymX5UThpzqDlSjl6nnzEzjomUpu8g62fR45ajz5ytXguxBUkFa1SbIyWZdEr0s6acpvMGKQUxug8+vFZFBFMKxRRyMZAPrwcYkem66mfAHH7O6f8vuldvFnfkLHk/4otf/OKRAd5xHMeDHF/4whd485vffNPnH7jkKqXw9NNP8/a3v50vfOELt7TFfL3j0Kjv+DzvXrwRzlVEODg44Ny5c7e0Fn7gloXWWt70pjcBsLW19cBe4BfH8Xne/XjQz3V7e/sVX3Nc0DiO47hHcZxcx3Ec9ygeyOSq65qf+qmfuqFX8oMUx+d59+ONdK6vFA9cQeM4juPPSjyQM9dxHMefhThOruM4jnsUx8l1HMdxj+I4uY7jOO5RHCfXcRzHPYoHMrn+5b/8lzzxxBM0TcM73/lOfu/3fu91PZ8Pf/jDfOM3fiPL5ZKHHnqIb//2b+fpp5++7jV/6S/9pSPvp8Of7/u+77uv5/mP//E/ftk5vO1tbzt6vu97PvCBD3Dq1CkWiwXf8R3fwYULF+7rOQI88cQTLztPYwwf+MAHgAfjWt6VkAcsPv7xj0tVVfJv/s2/kT/6oz+S7/3e75WdnR25cOHC63ZOf+Wv/BX56Ec/Kp/61Kfkk5/8pPzVv/pX5bHHHpPVanX0mm/7tm+T7/3e75Xz588f/ezt7d3X8/ypn/opecc73nHdOVy6dOno+e/7vu+TRx99VJ566in5xCc+Id/8zd8s7373u+/rOYqIXLx48bpz/LVf+zUB5Dd+4zdE5MG4lncjHrjk+qZv+ib5wAc+cPT/nLOcO3dOPvzhD7+OZ3V9XLx4UQD5rd/6raPHvu3bvk1+6Id+6PU7KdHk+rqv+7obPre7uyshBPl3/+7fHT32v/7X/xJAfud3fuc+neGN44d+6IfkrW99q5RSROTBuJZ3Ix6oZeE4jvz+7/8+73nPe44es9bynve8h9/5nd95Hc/s+tjb2wPg5MmT1z3+S7/0S5w+fZqv/uqv5sd//MfZbDb3/dw+85nPcO7cOd7ylrfwXd/1XTz77LMA/P7v/z4xxuuu7dve9jYee+yx1/XajuPIL/7iL/I93/M9k52rxoNwLV9rPFCo+MuXL5Nz5uGHH77u8Ycffpg/+ZM/eZ3O6voopfDBD36Qb/mWb+Grv/qrjx7/W3/rb/H4449z7tw5/uf//J/86I/+KE8//TT/4T/8h/t2bu985zv52Mc+xld+5Vdy/vx5/sk/+Sf8xb/4F/nUpz7F888/T1VV7OzsXPc7Dz/8MM8///x9O8eXxn/8j/+R3d1d/vbf/ttHjz0I1/JuxAOVXG+E+MAHPsCnPvUpfvu3f/u6x9///vcf/ftrvuZrOHv2LH/5L/9lPvvZz/LWt771vpzbe9/73qN/f+3Xfi3vfOc7efzxx/nlX/5l2ra9L+dwp/HzP//zvPe97+XcuXNHjz0I1/JuxAO1LDx9+jTOuZdVsC5cuMAjjzzyOp3VC/GDP/iD/Of//J/5jd/4jVsyUEFnEYBnnnnmfpzaDWNnZ4ev+Iqv4JlnnuGRRx5hHEd2d3eve83reW0///nP81//63/l7/7dv3vL1z0I1/LVxAOVXFVV8Q3f8A089dRTR4+VUnjqqad417ve9bqdl4jwgz/4g/zKr/wKv/7rv86TTz75ir/zyU9+EoCzZ8/e47O7eaxWKz772c9y9uxZvuEbvoEQwnXX9umnn+bZZ5993a7tRz/6UR566CH+2l/7a7d83YNwLV9VvN4VlZfGxz/+canrWj72sY/JH//xH8v73/9+2dnZkeeff/51O6fv//7vl+3tbfnN3/zN68rDm81GRESeeeYZ+dCHPiSf+MQn5HOf+5z8p//0n+Qtb3mLfOu3fut9Pc8f/uEflt/8zd+Uz33uc/Lf/tt/k/e85z1y+vRpuXjxoohoKf6xxx6TX//1X5dPfOIT8q53vUve9a533ddzPIycszz22GPyoz/6o9c9/qBcy7sRD1xyiYj87M/+rDz22GNSVZV80zd9k/zu7/7u63o+vCADf93PRz/6URERefbZZ+Vbv/Vb5eTJk1LXtXzZl32Z/MiP/Mh9781853d+p5w9e1aqqpI3velN8p3f+Z3yzDPPHD3fdZ38wA/8gJw4cUJms5n8jb/xN+T8+fP39RwP41d/9VcFkKeffvq6xx+Ua3k34pjPdRzHcY/igdpzHcdx/FmK4+Q6juO4R3GcXMdxHPcojpPrOI7jHsVxch3HcdyjOE6u4ziOexTHyXUcx3GP4ji5juM47lEcJ9dxHMc9iuPkOo7juEdxnFzHcRz3KP5/hdyR6o0mKMkAAAAASUVORK5CYII=\n",
      "text/plain": [
       "<Figure size 1000x1000 with 1 Axes>"
      ]
     },
     "metadata": {},
     "output_type": "display_data"
    }
   ],
   "source": [
    "plt.figure(figsize=(10,10))\n",
    "img, label = training_Aug.next()\n",
    "           \n",
    "for i in range (8):\n",
    "    ax = plt.subplot(3,4, i+1)\n",
    "    plt.imshow(training_Aug[0][0][i])\n",
    "    plt.title(class_names[tf.argmax(labels[i])])\n",
    "    plt.axis('off')"
   ]
  },
  {
   "cell_type": "code",
   "execution_count": null,
   "id": "18c7d855-f075-4aa4-8bba-d6feb8852758",
   "metadata": {},
   "outputs": [],
   "source": [
    "from tensorflow.keras import layers\n",
    "from tensorflow.keras.models import Sequential"
   ]
  },
  {
   "cell_type": "code",
   "execution_count": 22,
   "id": "c9c2ab9f-f14a-49be-8e00-9d50f8f7e04e",
   "metadata": {},
   "outputs": [],
   "source": [
    "cnn = tf.keras.models.Sequential()\n",
    "\n",
    "cnn.add(tf.keras.layers.Conv2D(filters = 256, kernel_size=3, padding = 'same', activation = 'relu',input_shape = [100, 100, 3]))\n",
    "cnn.add(tf.keras.layers.MaxPool2D(pool_size=2))\n",
    "\n",
    "cnn.add(tf.keras.layers.Conv2D(filters = 128, kernel_size=3, padding = 'same', activation = 'relu'))\n",
    "cnn.add(tf.keras.layers.MaxPool2D(pool_size=2))\n",
    "\n",
    "cnn.add(tf.keras.layers.Conv2D(filters = 64, kernel_size=3, padding = 'same',activation = 'relu'))\n",
    "cnn.add(tf.keras.layers.MaxPool2D(pool_size = 2))\n",
    "\n",
    "cnn.add(tf.keras.layers.Flatten())\n",
    "\n",
    "cnn.add(tf.keras.layers.Dense(units = 64,activation = 'relu'))\n",
    "\n",
    "cnn.add(tf.keras.layers.Dense(units = 1,activation = 'sigmoid'))"
   ]
  },
  {
   "cell_type": "code",
   "execution_count": 23,
   "id": "dd4b5d6a-d603-48e5-8176-dae7f17692e8",
   "metadata": {},
   "outputs": [
    {
     "name": "stdout",
     "output_type": "stream",
     "text": [
      "Model: \"sequential\"\n",
      "_________________________________________________________________\n",
      " Layer (type)                Output Shape              Param #   \n",
      "=================================================================\n",
      " conv2d (Conv2D)             (None, 100, 100, 256)     7168      \n",
      "                                                                 \n",
      " max_pooling2d (MaxPooling2D  (None, 50, 50, 256)      0         \n",
      " )                                                               \n",
      "                                                                 \n",
      " conv2d_1 (Conv2D)           (None, 50, 50, 128)       295040    \n",
      "                                                                 \n",
      " max_pooling2d_1 (MaxPooling  (None, 25, 25, 128)      0         \n",
      " 2D)                                                             \n",
      "                                                                 \n",
      " conv2d_2 (Conv2D)           (None, 25, 25, 64)        73792     \n",
      "                                                                 \n",
      " max_pooling2d_2 (MaxPooling  (None, 12, 12, 64)       0         \n",
      " 2D)                                                             \n",
      "                                                                 \n",
      " flatten (Flatten)           (None, 9216)              0         \n",
      "                                                                 \n",
      " dense (Dense)               (None, 64)                589888    \n",
      "                                                                 \n",
      " dense_1 (Dense)             (None, 1)                 65        \n",
      "                                                                 \n",
      "=================================================================\n",
      "Total params: 965,953\n",
      "Trainable params: 965,953\n",
      "Non-trainable params: 0\n",
      "_________________________________________________________________\n"
     ]
    }
   ],
   "source": [
    "cnn.summary()"
   ]
  },
  {
   "cell_type": "code",
   "execution_count": 24,
   "id": "355524dc-bb73-4b3a-993b-985047a467c0",
   "metadata": {},
   "outputs": [],
   "source": [
    "class myCallback(tf.keras.callbacks.Callback):\n",
    "    def on_epoch_end(self, epoch, logs = {}): \n",
    "        if(logs.get('accuracy') > 0.95 and logs.get('val_accuracy') > 0.95 and logs.get('val_loss') < 0.30):\n",
    "            self.model.stop_training = True\n",
    "            \n",
    "callback = myCallback()"
   ]
  },
  {
   "cell_type": "code",
   "execution_count": 25,
   "id": "6ad9ecb2-d150-44e1-b48a-50fd2aa47620",
   "metadata": {},
   "outputs": [],
   "source": [
    "cnn.compile(optimizer = 'adam', \n",
    "              loss = 'binary_crossentropy',\n",
    "              metrics = ['accuracy'])"
   ]
  },
  {
   "cell_type": "code",
   "execution_count": null,
   "id": "34908861-531d-4643-9d17-e7c3a8e66ddd",
   "metadata": {},
   "outputs": [
    {
     "name": "stderr",
     "output_type": "stream",
     "text": [
      "C:\\Users\\Latitude 5480\\AppData\\Local\\Temp\\ipykernel_8596\\591926264.py:1: UserWarning: `Model.fit_generator` is deprecated and will be removed in a future version. Please use `Model.fit`, which supports generators.\n",
      "  hist = cnn.fit_generator(training_Aug, validation_data = validation_Aug, epochs=50,\n"
     ]
    },
    {
     "name": "stdout",
     "output_type": "stream",
     "text": [
      "Epoch 1/50\n",
      "111/111 [==============================] - 118s 1s/step - loss: 0.3097 - accuracy: 0.8683 - val_loss: 0.1928 - val_accuracy: 0.9167\n",
      "Epoch 2/50\n",
      " 87/111 [======================>.......] - ETA: 23s - loss: 0.2696 - accuracy: 0.8911"
     ]
    }
   ],
   "source": [
    "hist = cnn.fit_generator(training_Aug, validation_data = validation_Aug, epochs=50,\n",
    "                  steps_per_epoch = training_Aug.samples//batch_size,\n",
    "                  validation_steps = validation_Aug.samples//batch_size,\n",
    "                  callbacks=callback \n",
    "                 )"
   ]
  },
  {
   "cell_type": "code",
   "execution_count": null,
   "id": "ef25b7af-ac53-41c3-a26a-23d758002af8",
   "metadata": {},
   "outputs": [],
   "source": [
    "cnn.evaluate(validation_Aug, verbose=1)"
   ]
  },
  {
   "cell_type": "code",
   "execution_count": null,
   "id": "1fea57d9-da4f-4460-a51c-7f78ffe55adf",
   "metadata": {},
   "outputs": [],
   "source": [
    "cnn.save('Model/Model.h5')\n",
    "print(\"Model Berhasil Disimpan!\")"
   ]
  },
  {
   "cell_type": "code",
   "execution_count": null,
   "id": "b2827492-d70c-4df2-98b1-946b633047bc",
   "metadata": {},
   "outputs": [],
   "source": [
    "import seaborn as sns"
   ]
  },
  {
   "cell_type": "code",
   "execution_count": null,
   "id": "d0da2816-0f76-47cc-83ad-c6e562aab899",
   "metadata": {},
   "outputs": [],
   "source": [
    "epoch = [i+1 for i in range(4)]\n",
    "sns.set_theme()\n",
    "plt.figure(figsize = (16,9))\n",
    "plt.suptitle('Training dan Validasi Akurasi')\n",
    "\n",
    "plt.subplot(1,2,1)\n",
    "sns.lineplot(x=epoch, y=hist.history['accuracy'], label = \"Akurasi Training\")\n",
    "sns.lineplot(x=epoch, y=hist.history['val_accuracy'], label = \"Akurasi Validasi\")\n",
    "\n",
    "plt.xticks(epoch)\n",
    "plt.xlabel('N_epoch')\n",
    "plt.ylabel('Accuracy(%)')\n",
    "plt.title('Akurasi Train/Validasi')\n",
    "\n",
    "plt.subplot(1,2,2)\n",
    "sns.lineplot(x=epoch, y=hist.history['loss'], label = \"Loss Training\")\n",
    "sns.lineplot(x=epoch, y=hist.history['val_loss'], label = \"Loss Validasi\")\n",
    "\n",
    "plt.xticks(epoch)\n",
    "plt.xlabel('N_epoch')\n",
    "plt.ylabel('Accuracy(%)')\n",
    "plt.title('Loss Train/Validasi')\n",
    "\n",
    "plt.show()"
   ]
  },
  {
   "cell_type": "code",
   "execution_count": null,
   "id": "fcfc2daa-891d-45ce-98b7-43c689afcd93",
   "metadata": {},
   "outputs": [],
   "source": [
    "import numpy as np"
   ]
  },
  {
   "cell_type": "code",
   "execution_count": null,
   "id": "dd47d625-4b0d-4dd7-b033-4a6e4079446e",
   "metadata": {},
   "outputs": [],
   "source": [
    "\n",
    "image, label = next(iter(validation_Aug))\n",
    "\n",
    "plt.figure(figsize=(15,10))\n",
    "for i in range(8) :\n",
    "    plt.subplot(2,4,i+1)\n",
    "    plt.axis('off')\n",
    "    predict = cnn.predict(image[i][None])\n",
    "    plt.imshow(image[i])\n",
    "    plt.title(f'Model Aktual --> {class_names[int(label[i])]} \\nModel Predik --> {class_names[int(result[0][0])]}')"
   ]
  },
  {
   "cell_type": "code",
   "execution_count": null,
   "id": "245bb81f-a448-4d94-b910-86f764a14a27",
   "metadata": {},
   "outputs": [],
   "source": [
    "from tensorflow.keras.preprocessing import image\n",
    "from tensorflow.keras.models import load_model\n",
    "import numpy as np\n",
    "import PIL"
   ]
  },
  {
   "cell_type": "code",
   "execution_count": null,
   "id": "8c309ea5-5936-486d-ad13-7f73a4b9c972",
   "metadata": {},
   "outputs": [],
   "source": [
    "cnn = load_model('Model/Model.h5')"
   ]
  },
  {
   "cell_type": "code",
   "execution_count": null,
   "id": "5a354fd4-c743-4857-881b-546b774dd5ec",
   "metadata": {},
   "outputs": [],
   "source": [
    "testing = r'D:/Kelompok3-PA-KB/Testing Data/mangkok.jfif'"
   ]
  },
  {
   "cell_type": "code",
   "execution_count": 15,
   "id": "f43f0f2b-ee8a-4cec-aa52-c83b1997e45a",
   "metadata": {},
   "outputs": [
    {
     "ename": "NameError",
     "evalue": "name 'image' is not defined",
     "output_type": "error",
     "traceback": [
      "\u001b[1;31m---------------------------------------------------------------------------\u001b[0m",
      "\u001b[1;31mNameError\u001b[0m                                 Traceback (most recent call last)",
      "Cell \u001b[1;32mIn [15], line 1\u001b[0m\n\u001b[1;32m----> 1\u001b[0m test_image\u001b[38;5;241m=\u001b[39m\u001b[43mimage\u001b[49m\u001b[38;5;241m.\u001b[39mload_img(testing, target_size\u001b[38;5;241m=\u001b[39m(\u001b[38;5;241m100\u001b[39m,\u001b[38;5;241m100\u001b[39m))\n\u001b[0;32m      2\u001b[0m test_image\u001b[38;5;241m=\u001b[39mimage\u001b[38;5;241m.\u001b[39mimg_to_array(test_image)\n\u001b[0;32m      3\u001b[0m test_image\u001b[38;5;241m=\u001b[39mtest_image\u001b[38;5;241m/\u001b[39m\u001b[38;5;241m255\u001b[39m\n",
      "\u001b[1;31mNameError\u001b[0m: name 'image' is not defined"
     ]
    }
   ],
   "source": [
    "test_image=image.load_img(testing, target_size=(100,100))\n",
    "test_image=image.img_to_array(test_image)\n",
    "test_image=test_image/255\n",
    "test_image=np.expand_dims(test_image,axis=0)\n",
    "result=cnn.predict(test_image)\n",
    "\n",
    "image_show=PIL.Image.open(testing)\n",
    "plt.imshow(image_show)\n",
    "\n",
    "plt.title(class_names[int(result[0][0])])\n",
    "plt.show()"
   ]
  },
  {
   "cell_type": "code",
   "execution_count": null,
   "id": "d741ba2b-216e-44b7-96b6-84593ebc137a",
   "metadata": {},
   "outputs": [],
   "source": []
  },
  {
   "cell_type": "code",
   "execution_count": null,
   "id": "3685f88a-1860-4817-8219-0f6fd37033cb",
   "metadata": {},
   "outputs": [],
   "source": []
  },
  {
   "cell_type": "code",
   "execution_count": null,
   "id": "37c7df8d-abfd-4a79-9cc4-5581e8d10219",
   "metadata": {},
   "outputs": [],
   "source": []
  }
 ],
 "metadata": {
  "kernelspec": {
   "display_name": "Chimaa_025",
   "language": "python",
   "name": "chimaa_025"
  },
  "language_info": {
   "codemirror_mode": {
    "name": "ipython",
    "version": 3
   },
   "file_extension": ".py",
   "mimetype": "text/x-python",
   "name": "python",
   "nbconvert_exporter": "python",
   "pygments_lexer": "ipython3",
   "version": "3.10.7"
  }
 },
 "nbformat": 4,
 "nbformat_minor": 5
}
